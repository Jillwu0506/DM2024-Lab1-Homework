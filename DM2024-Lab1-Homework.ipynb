{
 "cells": [
  {
   "cell_type": "markdown",
   "metadata": {},
   "source": [
    "### Student Information\n",
    "Name: 吳文婷        \n",
    "\n",
    "Student ID:d301111002   \n",
    "\n",
    "GitHub ID:Jillwu0506"
   ]
  },
  {
   "cell_type": "markdown",
   "metadata": {},
   "source": [
    "---"
   ]
  },
  {
   "cell_type": "markdown",
   "metadata": {},
   "source": [
    "### Instructions"
   ]
  },
  {
   "cell_type": "markdown",
   "metadata": {},
   "source": [
    "1. First: do the **take home** exercises in the [DM2024-Lab1-Master](https://github.com/didiersalazar/DM2024-Lab1-Master.git). You may need to copy some cells from the Lab notebook to this notebook. __This part is worth 20% of your grade.__\n",
    "\n",
    "\n",
    "2. Second: follow the same process from the [DM2024-Lab1-Master](https://github.com/didiersalazar/DM2024-Lab1-Master.git) on **the new dataset**. You don't need to explain all details as we did (some **minimal comments** explaining your code are useful though).  __This part is worth 30% of your grade.__\n",
    "    - Download the [the new dataset](https://huggingface.co/datasets/Senem/Nostalgic_Sentiment_Analysis_of_YouTube_Comments_Data). The dataset contains a `sentiment` and `comment` columns, with the sentiment labels being: 'nostalgia' and 'not nostalgia'. Read the specificiations of the dataset for background details. \n",
    "    - You are allowed to use and modify the `helper` functions in the folder of the first lab session (notice they may need modification) or create your own.\n",
    "\n",
    "\n",
    "3. Third: please attempt the following tasks on **the new dataset**. __This part is worth 30% of your grade.__\n",
    "    - Generate meaningful **new data visualizations**. Refer to online resources and the Data Mining textbook for inspiration and ideas. \n",
    "    - Generate **TF-IDF features** from the tokens of each text. This will generating a document matrix, however, the weights will be computed differently (using the TF-IDF value of each word per document as opposed to the word frequency). Refer to this Scikit-learn [guide](http://scikit-learn.org/stable/modules/generated/sklearn.feature_extraction.text.TfidfVectorizer.html) .\n",
    "    - Implement a simple **Naive Bayes classifier** that automatically classifies the records into their categories. Use both the TF-IDF features and word frequency features to build two seperate classifiers. Note that for the TF-IDF features you might need to use other type of NB classifier different than the one in the Master Notebook. Comment on the differences.  Refer to this [article](https://hub.packtpub.com/implementing-3-naive-bayes-classifiers-in-scikit-learn/).\n",
    "\n",
    "\n",
    "4. Fourth: In the lab, we applied each step really quickly just to illustrate how to work with your dataset. There are somethings that are not ideal or the most efficient/meaningful. Each dataset can be handled differently as well. What are those inefficent parts you noticed? How can you improve the Data preprocessing for these specific datasets? __This part is worth 10% of your grade.__\n",
    "\n",
    "\n",
    "5. Fifth: It's hard for us to follow if your code is messy, so please **tidy up your notebook** and **add minimal comments where needed**. __This part is worth 10% of your grade.__\n",
    "\n",
    "\n",
    "You can submit your homework following these guidelines: [Git Intro & How to hand your homework](https://github.com/didiersalazar/DM2024-Lab1-Master/blob/main/Git%20Intro%20%26%20How%20to%20hand%20your%20homework.ipynb). Make sure to commit and save your changes to your repository __BEFORE the deadline (October 27th 11:59 pm, Sunday)__. "
   ]
  },
  {
   "cell_type": "code",
   "execution_count": 1,
   "metadata": {},
   "outputs": [],
   "source": [
    "# TEST necessary for when working with external scripts\n",
    "%load_ext autoreload\n",
    "%autoreload 2"
   ]
  },
  {
   "cell_type": "markdown",
   "metadata": {},
   "source": [
    "## **Take Home Exercise in Lab 1 Master**"
   ]
  },
  {
   "cell_type": "code",
   "execution_count": 76,
   "metadata": {},
   "outputs": [],
   "source": [
    "import pandas as pd\n",
    "import numpy as np\n",
    "import nltk\n",
    "import helpers.data_mining_helpers as dmh\n",
    "import re\n",
    "import seaborn as sns\n",
    "import matplotlib.pyplot as plt\n"
   ]
  },
  {
   "cell_type": "code",
   "execution_count": 50,
   "metadata": {},
   "outputs": [
    {
     "data": {
      "text/html": [
       "<div>\n",
       "<style scoped>\n",
       "    .dataframe tbody tr th:only-of-type {\n",
       "        vertical-align: middle;\n",
       "    }\n",
       "\n",
       "    .dataframe tbody tr th {\n",
       "        vertical-align: top;\n",
       "    }\n",
       "\n",
       "    .dataframe thead th {\n",
       "        text-align: right;\n",
       "    }\n",
       "</style>\n",
       "<table border=\"1\" class=\"dataframe\">\n",
       "  <thead>\n",
       "    <tr style=\"text-align: right;\">\n",
       "      <th></th>\n",
       "      <th>text</th>\n",
       "      <th>category</th>\n",
       "      <th>category_name</th>\n",
       "    </tr>\n",
       "  </thead>\n",
       "  <tbody>\n",
       "    <tr>\n",
       "      <th>0</th>\n",
       "      <td>From: sd345@city.ac.uk (Michael Collier) Subje...</td>\n",
       "      <td>1</td>\n",
       "      <td>comp.graphics</td>\n",
       "    </tr>\n",
       "    <tr>\n",
       "      <th>1</th>\n",
       "      <td>From: ani@ms.uky.edu (Aniruddha B. Deglurkar) ...</td>\n",
       "      <td>1</td>\n",
       "      <td>comp.graphics</td>\n",
       "    </tr>\n",
       "    <tr>\n",
       "      <th>2</th>\n",
       "      <td>From: djohnson@cs.ucsd.edu (Darin Johnson) Sub...</td>\n",
       "      <td>3</td>\n",
       "      <td>soc.religion.christian</td>\n",
       "    </tr>\n",
       "    <tr>\n",
       "      <th>3</th>\n",
       "      <td>From: s0612596@let.rug.nl (M.M. Zwart) Subject...</td>\n",
       "      <td>3</td>\n",
       "      <td>soc.religion.christian</td>\n",
       "    </tr>\n",
       "    <tr>\n",
       "      <th>4</th>\n",
       "      <td>From: stanly@grok11.columbiasc.ncr.com (stanly...</td>\n",
       "      <td>3</td>\n",
       "      <td>soc.religion.christian</td>\n",
       "    </tr>\n",
       "  </tbody>\n",
       "</table>\n",
       "</div>"
      ],
      "text/plain": [
       "                                                text  category  \\\n",
       "0  From: sd345@city.ac.uk (Michael Collier) Subje...         1   \n",
       "1  From: ani@ms.uky.edu (Aniruddha B. Deglurkar) ...         1   \n",
       "2  From: djohnson@cs.ucsd.edu (Darin Johnson) Sub...         3   \n",
       "3  From: s0612596@let.rug.nl (M.M. Zwart) Subject...         3   \n",
       "4  From: stanly@grok11.columbiasc.ncr.com (stanly...         3   \n",
       "\n",
       "            category_name  \n",
       "0           comp.graphics  \n",
       "1           comp.graphics  \n",
       "2  soc.religion.christian  \n",
       "3  soc.religion.christian  \n",
       "4  soc.religion.christian  "
      ]
     },
     "execution_count": 50,
     "metadata": {},
     "output_type": "execute_result"
    }
   ],
   "source": [
    "\n",
    "# categories\n",
    "categories = ['alt.atheism', 'soc.religion.christian', 'comp.graphics', 'sci.med']\n",
    "\n",
    "# obtain the documents containing the categories provided\n",
    "from sklearn.datasets import fetch_20newsgroups\n",
    "\n",
    "twenty_train = fetch_20newsgroups(subset='train', categories=categories,\n",
    "                                  shuffle=True, random_state=42)\n",
    "\n",
    "# construct dataframe from a list\n",
    "X = pd.DataFrame.from_records(dmh.format_rows(twenty_train), columns= ['text'])\n",
    "\n",
    "# add category to the dataframe\n",
    "X['category'] = twenty_train.target\n",
    "\n",
    "# add category label also\n",
    "X['category_name'] = X.category.apply(lambda t: dmh.format_labels(t, twenty_train))\n",
    "\n",
    "X.head()"
   ]
  },
  {
   "cell_type": "markdown",
   "metadata": {},
   "source": [
    "### **>>> Exercise 2 (take home):** \n",
    "Experiment with other querying techniques using pandas dataframes. Refer to their [documentation](https://pandas.pydata.org/pandas-docs/stable/indexing.html) for more information."
   ]
  },
  {
   "cell_type": "code",
   "execution_count": 6,
   "metadata": {},
   "outputs": [
    {
     "data": {
      "text/html": [
       "<div>\n",
       "<style scoped>\n",
       "    .dataframe tbody tr th:only-of-type {\n",
       "        vertical-align: middle;\n",
       "    }\n",
       "\n",
       "    .dataframe tbody tr th {\n",
       "        vertical-align: top;\n",
       "    }\n",
       "\n",
       "    .dataframe thead th {\n",
       "        text-align: right;\n",
       "    }\n",
       "</style>\n",
       "<table border=\"1\" class=\"dataframe\">\n",
       "  <thead>\n",
       "    <tr style=\"text-align: right;\">\n",
       "      <th></th>\n",
       "      <th>text</th>\n",
       "      <th>category</th>\n",
       "      <th>category_name</th>\n",
       "    </tr>\n",
       "  </thead>\n",
       "  <tbody>\n",
       "    <tr>\n",
       "      <th>745</th>\n",
       "      <td>From: sandvik@newton.apple.com (Kent Sandvik) ...</td>\n",
       "      <td>0</td>\n",
       "      <td>alt.atheism</td>\n",
       "    </tr>\n",
       "    <tr>\n",
       "      <th>1543</th>\n",
       "      <td>From: keith@cco.caltech.edu (Keith Allan Schne...</td>\n",
       "      <td>0</td>\n",
       "      <td>alt.atheism</td>\n",
       "    </tr>\n",
       "    <tr>\n",
       "      <th>1696</th>\n",
       "      <td>From: jaeger@buphy.bu.edu (Gregg Jaeger) Subje...</td>\n",
       "      <td>0</td>\n",
       "      <td>alt.atheism</td>\n",
       "    </tr>\n",
       "    <tr>\n",
       "      <th>1271</th>\n",
       "      <td>From: mangoe@cs.umd.edu (Charley Wingate) Subj...</td>\n",
       "      <td>0</td>\n",
       "      <td>alt.atheism</td>\n",
       "    </tr>\n",
       "    <tr>\n",
       "      <th>2237</th>\n",
       "      <td>From: datepper@phoenix.Princeton.EDU (David Aa...</td>\n",
       "      <td>0</td>\n",
       "      <td>alt.atheism</td>\n",
       "    </tr>\n",
       "  </tbody>\n",
       "</table>\n",
       "</div>"
      ],
      "text/plain": [
       "                                                   text  category  \\\n",
       "745   From: sandvik@newton.apple.com (Kent Sandvik) ...         0   \n",
       "1543  From: keith@cco.caltech.edu (Keith Allan Schne...         0   \n",
       "1696  From: jaeger@buphy.bu.edu (Gregg Jaeger) Subje...         0   \n",
       "1271  From: mangoe@cs.umd.edu (Charley Wingate) Subj...         0   \n",
       "2237  From: datepper@phoenix.Princeton.EDU (David Aa...         0   \n",
       "\n",
       "     category_name  \n",
       "745    alt.atheism  \n",
       "1543   alt.atheism  \n",
       "1696   alt.atheism  \n",
       "1271   alt.atheism  \n",
       "2237   alt.atheism  "
      ]
     },
     "execution_count": 6,
     "metadata": {},
     "output_type": "execute_result"
    }
   ],
   "source": [
    "#sort the documents by category\n",
    "X.sort_values('category', inplace=True)\n",
    "X.head()"
   ]
  },
  {
   "cell_type": "code",
   "execution_count": 51,
   "metadata": {},
   "outputs": [
    {
     "name": "stdout",
     "output_type": "stream",
     "text": [
      "category_name\n",
      "soc.religion.christian    599\n",
      "sci.med                   594\n",
      "comp.graphics             584\n",
      "alt.atheism               480\n",
      "Name: count, dtype: int64\n"
     ]
    }
   ],
   "source": [
    "#calculate the number of documents in each category\n",
    "category_counts = X['category_name'].value_counts()\n",
    "print(category_counts)"
   ]
  },
  {
   "cell_type": "markdown",
   "metadata": {},
   "source": [
    "### >>> **Exercise 5 (take home)**"
   ]
  },
  {
   "cell_type": "code",
   "execution_count": 10,
   "metadata": {},
   "outputs": [
    {
     "data": {
      "text/html": [
       "<div>\n",
       "<style scoped>\n",
       "    .dataframe tbody tr th:only-of-type {\n",
       "        vertical-align: middle;\n",
       "    }\n",
       "\n",
       "    .dataframe tbody tr th {\n",
       "        vertical-align: top;\n",
       "    }\n",
       "\n",
       "    .dataframe thead th {\n",
       "        text-align: right;\n",
       "    }\n",
       "</style>\n",
       "<table border=\"1\" class=\"dataframe\">\n",
       "  <thead>\n",
       "    <tr style=\"text-align: right;\">\n",
       "      <th></th>\n",
       "      <th>id</th>\n",
       "      <th>missing_example</th>\n",
       "    </tr>\n",
       "  </thead>\n",
       "  <tbody>\n",
       "    <tr>\n",
       "      <th>0</th>\n",
       "      <td>A</td>\n",
       "      <td>NaN</td>\n",
       "    </tr>\n",
       "    <tr>\n",
       "      <th>1</th>\n",
       "      <td>B</td>\n",
       "      <td>NaN</td>\n",
       "    </tr>\n",
       "    <tr>\n",
       "      <th>2</th>\n",
       "      <td>C</td>\n",
       "      <td>NaN</td>\n",
       "    </tr>\n",
       "    <tr>\n",
       "      <th>3</th>\n",
       "      <td>D</td>\n",
       "      <td>None</td>\n",
       "    </tr>\n",
       "    <tr>\n",
       "      <th>4</th>\n",
       "      <td>E</td>\n",
       "      <td>None</td>\n",
       "    </tr>\n",
       "    <tr>\n",
       "      <th>5</th>\n",
       "      <td>F</td>\n",
       "      <td></td>\n",
       "    </tr>\n",
       "  </tbody>\n",
       "</table>\n",
       "</div>"
      ],
      "text/plain": [
       "  id missing_example\n",
       "0  A             NaN\n",
       "1  B             NaN\n",
       "2  C             NaN\n",
       "3  D            None\n",
       "4  E            None\n",
       "5  F                "
      ]
     },
     "execution_count": 10,
     "metadata": {},
     "output_type": "execute_result"
    }
   ],
   "source": [
    "import numpy as np\n",
    "\n",
    "NA_dict = [{ 'id': 'A', 'missing_example': np.nan },\n",
    "           { 'id': 'B'                    },\n",
    "           { 'id': 'C', 'missing_example': 'NaN'  },\n",
    "           { 'id': 'D', 'missing_example': 'None' },\n",
    "           { 'id': 'E', 'missing_example':  None  },\n",
    "           { 'id': 'F', 'missing_example': ''     }]\n",
    "\n",
    "NA_df = pd.DataFrame(NA_dict, columns = ['id','missing_example'])\n",
    "NA_df"
   ]
  },
  {
   "cell_type": "markdown",
   "metadata": {},
   "source": [
    "**Answer:**  \n",
    "A: nan in numpy means missing value  \n",
    "B: missing value  \n",
    "C: string 'NaN' (not missing value)  \n",
    "D: string 'None'(not missing value)  \n",
    "E: None means missing value in python  \n",
    "F: empty string (not missing value)"
   ]
  },
  {
   "cell_type": "markdown",
   "metadata": {},
   "source": [
    "### >>> **Exercise 6 (take home):**"
   ]
  },
  {
   "cell_type": "code",
   "execution_count": 15,
   "metadata": {},
   "outputs": [
    {
     "name": "stdout",
     "output_type": "stream",
     "text": [
      "category_name\n",
      "soc.religion.christian    0.265397\n",
      "sci.med                   0.263181\n",
      "comp.graphics             0.258751\n",
      "alt.atheism               0.212672\n",
      "Name: count, dtype: float64\n",
      "category_name\n",
      "soc.religion.christian    0.263\n",
      "comp.graphics             0.258\n",
      "sci.med                   0.252\n",
      "alt.atheism               0.227\n",
      "Name: count, dtype: float64\n"
     ]
    }
   ],
   "source": [
    "X_sample = X.sample(n=1000) #random state\n",
    "\n",
    "# calculate the distribution of categories\n",
    "category_counts = X['category_name'].value_counts()\n",
    "category_counts_sample = X_sample['category_name'].value_counts()\n",
    "category_distribution = category_counts / category_counts.sum()\n",
    "category_distribution_sample = category_counts_sample / category_counts_sample.sum()\n",
    "\n",
    "print(category_counts / category_counts.sum())\n",
    "print(category_counts_sample / category_counts_sample.sum())"
   ]
  },
  {
   "cell_type": "markdown",
   "metadata": {},
   "source": [
    "**Answer:**\n",
    " The distribution of categories in X_sample is similar to the X**\n"
   ]
  },
  {
   "cell_type": "markdown",
   "metadata": {},
   "source": [
    "### >>> **Exercise 8 (take home):** \n"
   ]
  },
  {
   "cell_type": "code",
   "execution_count": 20,
   "metadata": {},
   "outputs": [
    {
     "data": {
      "image/png": "[encoded data removed]",
      "text/plain": [
       "<Figure size 1400x700 with 1 Axes>"
      ]
     },
     "metadata": {},
     "output_type": "display_data"
    }
   ],
   "source": [
    "import matplotlib.pyplot as plt\n",
    "import seaborn as sns\n",
    "\n",
    "# combine the category counts in X and X_sample\n",
    "combined_df = pd.DataFrame({\n",
    "    'Category': category_counts.index,\n",
    "    'X': category_counts.values,\n",
    "    'X_sample': category_counts_sample.reindex(category_counts.index).fillna(0).values\n",
    "})\n",
    "\n",
    "# draw the bar chart\n",
    "plt.figure(figsize=(14, 7))\n",
    "bar_width = 0.2\n",
    "index = range(len(combined_df))\n",
    "\n",
    "plt.bar(index, combined_df['X'], bar_width, label='X')\n",
    "plt.bar([i + bar_width for i in index], combined_df['X_sample'], bar_width, label='X_sample')\n",
    "\n",
    "plt.xlabel('Category')\n",
    "plt.ylabel('Count')\n",
    "plt.title('Category distribution')\n",
    "plt.xticks([i + bar_width / 2 for i in index], combined_df['Category'])\n",
    "plt.legend()\n",
    "\n",
    "plt.tight_layout()\n",
    "plt.show()\n"
   ]
  },
  {
   "cell_type": "code",
   "execution_count": 52,
   "metadata": {},
   "outputs": [],
   "source": [
    "import nltk\n",
    "# takes a like a minute or two to process\n",
    "X['unigrams'] = X['text'].apply(lambda x: dmh.tokenize_text(x))"
   ]
  },
  {
   "cell_type": "markdown",
   "metadata": {},
   "source": [
    "### **>>> Exercise 10 (take home):**"
   ]
  },
  {
   "cell_type": "code",
   "execution_count": 82,
   "metadata": {},
   "outputs": [
    {
     "data": {
      "text/plain": [
       "array([[0, 0, 0, 0, 0, 0, 0, 0, 0, 0, 0, 0, 0, 0, 0, 0, 0, 0, 0, 0, 0, 0,\n",
       "        0, 0, 0, 0, 0, 0, 0, 0, 0, 0, 0, 0, 0, 0, 0, 0, 0, 0, 0, 0, 0, 0,\n",
       "        0, 0, 0, 0, 0, 0, 0, 0, 0, 0, 0, 0, 0, 0, 0, 0, 0, 0, 0, 0, 0, 0,\n",
       "        0, 0, 0, 0, 0, 0, 0, 0, 0, 0, 0, 0, 0, 0, 0, 0, 0, 0, 0, 0, 0, 0,\n",
       "        0, 0, 0, 0, 0, 0, 0, 0, 0, 0, 0, 0],\n",
       "       [0, 0, 0, 0, 0, 0, 0, 0, 0, 0, 0, 0, 0, 0, 0, 0, 0, 0, 0, 0, 0, 0,\n",
       "        0, 0, 0, 0, 0, 0, 0, 0, 0, 0, 0, 0, 0, 0, 0, 0, 0, 0, 0, 0, 0, 0,\n",
       "        0, 0, 0, 0, 0, 0, 0, 0, 0, 0, 0, 0, 0, 0, 0, 0, 0, 0, 0, 0, 0, 0,\n",
       "        0, 0, 0, 0, 0, 0, 0, 0, 0, 0, 0, 0, 0, 0, 0, 0, 0, 0, 0, 0, 0, 0,\n",
       "        0, 0, 0, 0, 0, 0, 0, 0, 0, 0, 0, 0],\n",
       "       [0, 0, 0, 0, 0, 0, 0, 0, 0, 0, 0, 0, 0, 0, 0, 0, 0, 0, 0, 0, 0, 0,\n",
       "        0, 0, 0, 0, 0, 0, 0, 0, 0, 0, 0, 0, 0, 0, 0, 0, 0, 0, 0, 0, 0, 0,\n",
       "        0, 0, 0, 0, 0, 0, 0, 0, 0, 0, 0, 0, 0, 0, 0, 0, 0, 0, 0, 0, 0, 0,\n",
       "        0, 0, 0, 0, 0, 0, 0, 0, 0, 0, 0, 0, 0, 0, 0, 0, 0, 0, 0, 0, 0, 0,\n",
       "        0, 0, 0, 0, 0, 0, 0, 0, 0, 0, 0, 0],\n",
       "       [0, 0, 0, 0, 0, 0, 0, 0, 0, 0, 0, 0, 0, 0, 0, 0, 0, 0, 0, 0, 0, 0,\n",
       "        0, 0, 0, 0, 0, 0, 0, 0, 0, 0, 0, 0, 0, 0, 0, 0, 0, 0, 0, 0, 0, 0,\n",
       "        0, 0, 0, 0, 0, 0, 0, 0, 0, 0, 0, 0, 0, 0, 0, 0, 0, 0, 0, 0, 0, 0,\n",
       "        0, 0, 0, 0, 0, 0, 0, 0, 0, 0, 0, 0, 0, 0, 0, 0, 0, 0, 0, 0, 0, 0,\n",
       "        0, 0, 0, 0, 0, 0, 0, 0, 0, 0, 0, 0],\n",
       "       [1, 0, 0, 0, 0, 0, 0, 0, 0, 0, 0, 0, 0, 0, 0, 0, 0, 0, 0, 0, 0, 0,\n",
       "        0, 0, 0, 0, 0, 0, 0, 0, 0, 0, 0, 0, 0, 0, 0, 1, 0, 0, 0, 0, 0, 0,\n",
       "        0, 0, 0, 0, 0, 0, 0, 0, 0, 0, 0, 0, 0, 0, 0, 0, 0, 0, 0, 0, 0, 0,\n",
       "        0, 0, 0, 0, 0, 0, 0, 0, 0, 0, 0, 0, 0, 0, 0, 0, 0, 0, 0, 0, 0, 0,\n",
       "        0, 0, 0, 0, 0, 0, 0, 0, 0, 0, 0, 0]], dtype=int64)"
      ]
     },
     "execution_count": 82,
     "metadata": {},
     "output_type": "execute_result"
    }
   ],
   "source": [
    "from sklearn.feature_extraction.text import CountVectorizer\n",
    "\n",
    "count_vect = CountVectorizer()\n",
    "X_counts = count_vect.fit_transform(X.text) #learn the vocabulary and return document-term matrix\n",
    "\n",
    "analyze = count_vect.build_analyzer()\n",
    "analyze(X.text[0])\n",
    "X_counts[0:5, 0:100].toarray()"
   ]
  },
  {
   "cell_type": "code",
   "execution_count": 83,
   "metadata": {},
   "outputs": [
    {
     "name": "stdout",
     "output_type": "stream",
     "text": [
      "['00', '01', '14', '15', '22', '22824', '28246', '41', '57', 'am', 'at', 'attend', 'believe', 'brother', 'certain', 'chose', 'christ', 'columbia', 'columbiasc', 'corp', 'customary', 'decision', 'died', 'elder', 'equalivant', 'fc', 'find', 'fnal', 'from', 'given', 'go', 'gov', 'grok11', 'heaven', 'highways', 'his', 'hmmmmmm', 'hp', 'hpfcso', 'invite', 'it', 'king', 'kingdom', 'lines', 'made', 'main', 'many', 'marriage', 'matt', 'odds', 'on', 'one', 'organization', 'provided', 'put', 're', 'refused', 'rexlex', 'righteousness', 'sc', 'shrum', 'sins', 'so', 'son', 'sounds', 'subject', 'tells', 'that', 'then', 'theology', 'there', 'therefore', 'unto', 'wear', 'when', 'who', 'writes', 'you', 'your']\n"
     ]
    }
   ],
   "source": [
    "# grab the first row of the document-term matrix and convert it to a list\n",
    "feature_names = count_vect.get_feature_names_out()\n",
    "\n",
    "#Find the '1' in fifth_record and get the corresponding word\n",
    "fifth_record = X_counts[4].toarray()[0]  \n",
    "indices = [i for i, x in enumerate(fifth_record) if x == 1]\n",
    "\n",
    "# get the words corresponding to the indices\n",
    "words = [feature_names[i] for i in indices]\n",
    "print(words)"
   ]
  },
  {
   "cell_type": "markdown",
   "metadata": {},
   "source": [
    "**# Answer:**\n",
    " The word of second '1' is '01' and we also know all words having '1' in fifth_record."
   ]
  },
  {
   "cell_type": "markdown",
   "metadata": {},
   "source": [
    "### **>>> Exercise 11 (take home):** \n"
   ]
  },
  {
   "cell_type": "code",
   "execution_count": 89,
   "metadata": {},
   "outputs": [
    {
     "name": "stderr",
     "output_type": "stream",
     "text": [
      "C:\\Users\\jill\\AppData\\Local\\Temp\\ipykernel_35680\\1062165154.py:16: FutureWarning: \n",
      "\n",
      "Passing `palette` without assigning `hue` is deprecated and will be removed in v0.14.0. Assign the `x` variable to `hue` and set `legend=False` for the same effect.\n",
      "\n",
      "  sns.barplot(x=feature_counts.index, y=feature_counts.values, palette='viridis')\n"
     ]
    },
    {
     "data": {
      "image/png": "[encoded data removed]",
      "text/plain": [
       "<Figure size 1200x800 with 1 Axes>"
      ]
     },
     "metadata": {},
     "output_type": "display_data"
    }
   ],
   "source": [
    "import seaborn as sns\n",
    "# Only select the first 20 features\n",
    "selected_features = feature_names[:20]\n",
    "\n",
    "# Get the document term matrix\n",
    "X_counts_selected = X_counts[:, :20].toarray()\n",
    "\n",
    "# Create a dataframe for seaborn plot\n",
    "df_todraw = pd.DataFrame(X_counts_selected, columns=selected_features)\n",
    "\n",
    "# Count the frequency of each word\n",
    "feature_counts = df_todraw.sum(axis=0)\n",
    "\n",
    "# draw the bar chart\n",
    "plt.figure(figsize=(12, 8))\n",
    "sns.barplot(x=feature_counts.index, y=feature_counts.values, palette='viridis')\n",
    "plt.title('Frequency of First 20 Features Across All Documents')\n",
    "plt.xlabel('Terms')\n",
    "plt.ylabel('Frequency')\n",
    "plt.xticks(rotation=90)\n",
    "plt.show()"
   ]
  },
  {
   "cell_type": "markdown",
   "metadata": {},
   "source": [
    "### >>> **Exercise 12 (take home):**"
   ]
  },
  {
   "cell_type": "code",
   "execution_count": 87,
   "metadata": {},
   "outputs": [],
   "source": [
    "term_frequencies = []\n",
    "for j in range(0,X_counts.shape[1]):\n",
    "    term_frequencies.append(sum(X_counts[:,j].toarray()))\n"
   ]
  },
  {
   "cell_type": "code",
   "execution_count": 95,
   "metadata": {},
   "outputs": [
    {
     "data": {
      "application/vnd.plotly.v1+json": {
       "config": {
        "plotlyServerURL": "https://plot.ly"
       },
       "data": [
        {
         "alignmentgroup": "True",
         "hovertemplate": "x=%{x}<br>y=%{y}<extra></extra>",
         "legendgroup": "",
         "marker": {
          "color": "#636efa",
          "pattern": {
           "shape": ""
          }
         },
         "name": "",
         "offsetgroup": "",
         "orientation": "v",
         "showlegend": false,
         "textposition": "auto",
         "type": "bar",
         "x": [
          "00",
          "000",
          "0000",
          "0000001200",
          "000005102000",
          "0001",
          "000100255pixel",
          "00014",
          "000406",
          "0007",
          "000usd",
          "0010",
          "001004",
          "0010580b",
          "001125",
          "001200201pixel",
          "0014",
          "001642",
          "00196",
          "002",
          "0028",
          "003258u19250",
          "0033",
          "0038",
          "0039",
          "004021809",
          "004158",
          "004627",
          "0049",
          "00500",
          "005148",
          "00630",
          "008561",
          "0094",
          "00am",
          "00index",
          "00pm",
          "01",
          "0100",
          "010116",
          "010702",
          "011255",
          "011308pxf3",
          "011605",
          "011720",
          "012019",
          "012536",
          "012946",
          "013",
          "013034",
          "0131",
          "013423tan102",
          "013657",
          "0138",
          "013846",
          "0150",
          "015518",
          "01580",
          "015931",
          "01720",
          "01752",
          "0179",
          "01821",
          "01830",
          "0184",
          "01852",
          "01854",
          "01890",
          "0195",
          "0199",
          "01a",
          "01wb",
          "02",
          "020",
          "0200",
          "020504",
          "020637",
          "020646",
          "020701tan102",
          "020751",
          "02115",
          "02118",
          "02139",
          "02142",
          "02154",
          "02160",
          "021635",
          "021708",
          "02173",
          "0223",
          "02254",
          "022621tan102",
          "023044",
          "0235",
          "0237",
          "024103",
          "024150",
          "024626",
          "025240",
          "025924",
          "0278",
          "02908",
          "0293",
          "03",
          "030105",
          "0303",
          "030334",
          "03051",
          "0306",
          "030734",
          "031423",
          "0318",
          "032251",
          "0330",
          "033446",
          "033843",
          "034226",
          "0349",
          "0358",
          "0362",
          "0372",
          "03756",
          "0380",
          "0391",
          "04",
          "040",
          "040286",
          "04046",
          "040493161915",
          "040819",
          "0410",
          "041343",
          "0418",
          "042100",
          "0423",
          "043654",
          "044140",
          "044946",
          "04g",
          "05",
          "0500",
          "050046mvs104",
          "0502",
          "050524",
          "050750",
          "0510",
          "051039",
          "0511",
          "051201",
          "051246",
          "0513",
          "053250",
          "05401",
          "05402",
          "05446",
          "054600",
          "055958",
          "0578",
          "06",
          "0600",
          "0600lines",
          "060493161931",
          "0608",
          "061",
          "062328",
          "062908mvs104",
          "06320",
          "063425",
          "0649",
          "06510",
          "065230",
          "0656",
          "068",
          "07",
          "0700",
          "0704",
          "0706",
          "071",
          "07102",
          "071613j5j",
          "071823",
          "0721",
          "0729",
          "07410",
          "0752",
          "07653",
          "077",
          "07748",
          "08",
          "0804",
          "08057",
          "080719",
          "081",
          "081052",
          "081303",
          "083731",
          "084",
          "084042",
          "084258",
          "085526",
          "08690",
          "08786",
          "08934",
          "09",
          "0900",
          "090030",
          "0901",
          "0903",
          "090306",
          "0908",
          "091139",
          "091258",
          "091844",
          "092051",
          "0922",
          "0926",
          "0930",
          "093300",
          "093904",
          "0943",
          "095148",
          "095220",
          "0987",
          "0_",
          "0______________________________________________________________________0",
          "0a",
          "0b",
          "0b10",
          "0b15",
          "0e9",
          "0hb",
          "0l7",
          "0s",
          "0u1",
          "0x",
          "0x00",
          "0x100",
          "0x1f",
          "0x3d4",
          "0x8",
          "0xc010",
          "0xc018",
          "10",
          "100",
          "1000",
          "10000",
          "100000",
          "100015",
          "100039",
          "100042",
          "1000mg",
          "1001",
          "10012",
          "10016",
          "10021",
          "1003",
          "10032",
          "10036",
          "10038",
          "1005",
          "10056",
          "1007",
          "100c",
          "100grams",
          "100k",
          "100lez",
          "100megs",
          "100mg",
          "101",
          "1010",
          "10101",
          "101010",
          "1013",
          "1015",
          "101747",
          "10179",
          "10193",
          "10196",
          "101h",
          "102",
          "102007",
          "1023",
          "1024",
          "1024x1024",
          "1024x512",
          "1024x728",
          "1024x768",
          "1024x768x24",
          "1024x768x65000",
          "1024x786x24",
          "10250",
          "1027",
          "1028",
          "102810",
          "1029",
          "103",
          "1030",
          "103237",
          "10368",
          "1039"
         ],
         "xaxis": "x",
         "y": [
          134,
          92,
          1,
          2,
          1,
          3,
          1,
          1,
          1,
          1,
          2,
          1,
          1,
          3,
          1,
          1,
          1,
          2,
          1,
          3,
          1,
          2,
          1,
          1,
          1,
          2,
          1,
          1,
          1,
          1,
          1,
          1,
          1,
          1,
          5,
          1,
          13,
          95,
          4,
          1,
          1,
          1,
          1,
          1,
          2,
          1,
          1,
          1,
          2,
          1,
          1,
          1,
          1,
          2,
          1,
          1,
          1,
          4,
          2,
          1,
          1,
          1,
          1,
          1,
          2,
          1,
          1,
          1,
          1,
          1,
          2,
          1,
          59,
          1,
          4,
          2,
          1,
          1,
          1,
          1,
          2,
          3,
          1,
          2,
          1,
          1,
          1,
          1,
          3,
          1,
          1,
          1,
          3,
          1,
          1,
          3,
          2,
          1,
          2,
          2,
          1,
          1,
          3,
          100,
          1,
          1,
          1,
          1,
          1,
          1,
          2,
          1,
          2,
          1,
          2,
          1,
          2,
          5,
          24,
          1,
          1,
          1,
          1,
          2,
          47,
          4,
          1,
          1,
          1,
          1,
          1,
          3,
          1,
          1,
          4,
          2,
          2,
          1,
          1,
          62,
          2,
          2,
          1,
          1,
          1,
          2,
          1,
          5,
          1,
          1,
          1,
          1,
          1,
          1,
          1,
          1,
          1,
          1,
          18,
          3,
          1,
          1,
          3,
          2,
          1,
          1,
          3,
          2,
          1,
          1,
          1,
          1,
          1,
          27,
          1,
          1,
          1,
          7,
          1,
          1,
          2,
          2,
          1,
          1,
          1,
          1,
          1,
          1,
          40,
          1,
          2,
          1,
          1,
          5,
          1,
          1,
          1,
          5,
          1,
          1,
          1,
          1,
          1,
          34,
          1,
          2,
          1,
          1,
          1,
          1,
          2,
          2,
          2,
          1,
          1,
          1,
          2,
          2,
          1,
          1,
          1,
          4,
          2,
          1,
          1,
          1,
          1,
          1,
          1,
          1,
          1,
          1,
          1,
          1,
          2,
          1,
          3,
          1,
          1,
          1,
          1,
          1,
          378,
          105,
          20,
          2,
          2,
          2,
          1,
          1,
          1,
          1,
          1,
          2,
          1,
          1,
          1,
          1,
          1,
          1,
          1,
          1,
          1,
          2,
          2,
          1,
          1,
          1,
          19,
          1,
          3,
          4,
          8,
          2,
          1,
          2,
          2,
          1,
          1,
          7,
          3,
          1,
          5,
          1,
          1,
          1,
          7,
          1,
          1,
          2,
          1,
          1,
          2,
          1,
          1,
          4,
          1,
          3,
          1,
          1
         ],
         "yaxis": "y"
        }
       ],
       "layout": {
        "barmode": "relative",
        "height": 800,
        "legend": {
         "tracegroupgap": 0
        },
        "template": {
         "data": {
          "bar": [
           {
            "error_x": {
             "color": "#2a3f5f"
            },
            "error_y": {
             "color": "#2a3f5f"
            },
            "marker": {
             "line": {
              "color": "#E5ECF6",
              "width": 0.5
             },
             "pattern": {
              "fillmode": "overlay",
              "size": 10,
              "solidity": 0.2
             }
            },
            "type": "bar"
           }
          ],
          "barpolar": [
           {
            "marker": {
             "line": {
              "color": "#E5ECF6",
              "width": 0.5
             },
             "pattern": {
              "fillmode": "overlay",
              "size": 10,
              "solidity": 0.2
             }
            },
            "type": "barpolar"
           }
          ],
          "carpet": [
           {
            "aaxis": {
             "endlinecolor": "#2a3f5f",
             "gridcolor": "white",
             "linecolor": "white",
             "minorgridcolor": "white",
             "startlinecolor": "#2a3f5f"
            },
            "baxis": {
             "endlinecolor": "#2a3f5f",
             "gridcolor": "white",
             "linecolor": "white",
             "minorgridcolor": "white",
             "startlinecolor": "#2a3f5f"
            },
            "type": "carpet"
           }
          ],
          "choropleth": [
           {
            "colorbar": {
             "outlinewidth": 0,
             "ticks": ""
            },
            "type": "choropleth"
           }
          ],
          "contour": [
           {
            "colorbar": {
             "outlinewidth": 0,
             "ticks": ""
            },
            "colorscale": [
             [
              0,
              "#0d0887"
             ],
             [
              0.1111111111111111,
              "#46039f"
             ],
             [
              0.2222222222222222,
              "#7201a8"
             ],
             [
              0.3333333333333333,
              "#9c179e"
             ],
             [
              0.4444444444444444,
              "#bd3786"
             ],
             [
              0.5555555555555556,
              "#d8576b"
             ],
             [
              0.6666666666666666,
              "#ed7953"
             ],
             [
              0.7777777777777778,
              "#fb9f3a"
             ],
             [
              0.8888888888888888,
              "#fdca26"
             ],
             [
              1,
              "#f0f921"
             ]
            ],
            "type": "contour"
           }
          ],
          "contourcarpet": [
           {
            "colorbar": {
             "outlinewidth": 0,
             "ticks": ""
            },
            "type": "contourcarpet"
           }
          ],
          "heatmap": [
           {
            "colorbar": {
             "outlinewidth": 0,
             "ticks": ""
            },
            "colorscale": [
             [
              0,
              "#0d0887"
             ],
             [
              0.1111111111111111,
              "#46039f"
             ],
             [
              0.2222222222222222,
              "#7201a8"
             ],
             [
              0.3333333333333333,
              "#9c179e"
             ],
             [
              0.4444444444444444,
              "#bd3786"
             ],
             [
              0.5555555555555556,
              "#d8576b"
             ],
             [
              0.6666666666666666,
              "#ed7953"
             ],
             [
              0.7777777777777778,
              "#fb9f3a"
             ],
             [
              0.8888888888888888,
              "#fdca26"
             ],
             [
              1,
              "#f0f921"
             ]
            ],
            "type": "heatmap"
           }
          ],
          "heatmapgl": [
           {
            "colorbar": {
             "outlinewidth": 0,
             "ticks": ""
            },
            "colorscale": [
             [
              0,
              "#0d0887"
             ],
             [
              0.1111111111111111,
              "#46039f"
             ],
             [
              0.2222222222222222,
              "#7201a8"
             ],
             [
              0.3333333333333333,
              "#9c179e"
             ],
             [
              0.4444444444444444,
              "#bd3786"
             ],
             [
              0.5555555555555556,
              "#d8576b"
             ],
             [
              0.6666666666666666,
              "#ed7953"
             ],
             [
              0.7777777777777778,
              "#fb9f3a"
             ],
             [
              0.8888888888888888,
              "#fdca26"
             ],
             [
              1,
              "#f0f921"
             ]
            ],
            "type": "heatmapgl"
           }
          ],
          "histogram": [
           {
            "marker": {
             "pattern": {
              "fillmode": "overlay",
              "size": 10,
              "solidity": 0.2
             }
            },
            "type": "histogram"
           }
          ],
          "histogram2d": [
           {
            "colorbar": {
             "outlinewidth": 0,
             "ticks": ""
            },
            "colorscale": [
             [
              0,
              "#0d0887"
             ],
             [
              0.1111111111111111,
              "#46039f"
             ],
             [
              0.2222222222222222,
              "#7201a8"
             ],
             [
              0.3333333333333333,
              "#9c179e"
             ],
             [
              0.4444444444444444,
              "#bd3786"
             ],
             [
              0.5555555555555556,
              "#d8576b"
             ],
             [
              0.6666666666666666,
              "#ed7953"
             ],
             [
              0.7777777777777778,
              "#fb9f3a"
             ],
             [
              0.8888888888888888,
              "#fdca26"
             ],
             [
              1,
              "#f0f921"
             ]
            ],
            "type": "histogram2d"
           }
          ],
          "histogram2dcontour": [
           {
            "colorbar": {
             "outlinewidth": 0,
             "ticks": ""
            },
            "colorscale": [
             [
              0,
              "#0d0887"
             ],
             [
              0.1111111111111111,
              "#46039f"
             ],
             [
              0.2222222222222222,
              "#7201a8"
             ],
             [
              0.3333333333333333,
              "#9c179e"
             ],
             [
              0.4444444444444444,
              "#bd3786"
             ],
             [
              0.5555555555555556,
              "#d8576b"
             ],
             [
              0.6666666666666666,
              "#ed7953"
             ],
             [
              0.7777777777777778,
              "#fb9f3a"
             ],
             [
              0.8888888888888888,
              "#fdca26"
             ],
             [
              1,
              "#f0f921"
             ]
            ],
            "type": "histogram2dcontour"
           }
          ],
          "mesh3d": [
           {
            "colorbar": {
             "outlinewidth": 0,
             "ticks": ""
            },
            "type": "mesh3d"
           }
          ],
          "parcoords": [
           {
            "line": {
             "colorbar": {
              "outlinewidth": 0,
              "ticks": ""
             }
            },
            "type": "parcoords"
           }
          ],
          "pie": [
           {
            "automargin": true,
            "type": "pie"
           }
          ],
          "scatter": [
           {
            "fillpattern": {
             "fillmode": "overlay",
             "size": 10,
             "solidity": 0.2
            },
            "type": "scatter"
           }
          ],
          "scatter3d": [
           {
            "line": {
             "colorbar": {
              "outlinewidth": 0,
              "ticks": ""
             }
            },
            "marker": {
             "colorbar": {
              "outlinewidth": 0,
              "ticks": ""
             }
            },
            "type": "scatter3d"
           }
          ],
          "scattercarpet": [
           {
            "marker": {
             "colorbar": {
              "outlinewidth": 0,
              "ticks": ""
             }
            },
            "type": "scattercarpet"
           }
          ],
          "scattergeo": [
           {
            "marker": {
             "colorbar": {
              "outlinewidth": 0,
              "ticks": ""
             }
            },
            "type": "scattergeo"
           }
          ],
          "scattergl": [
           {
            "marker": {
             "colorbar": {
              "outlinewidth": 0,
              "ticks": ""
             }
            },
            "type": "scattergl"
           }
          ],
          "scattermapbox": [
           {
            "marker": {
             "colorbar": {
              "outlinewidth": 0,
              "ticks": ""
             }
            },
            "type": "scattermapbox"
           }
          ],
          "scatterpolar": [
           {
            "marker": {
             "colorbar": {
              "outlinewidth": 0,
              "ticks": ""
             }
            },
            "type": "scatterpolar"
           }
          ],
          "scatterpolargl": [
           {
            "marker": {
             "colorbar": {
              "outlinewidth": 0,
              "ticks": ""
             }
            },
            "type": "scatterpolargl"
           }
          ],
          "scatterternary": [
           {
            "marker": {
             "colorbar": {
              "outlinewidth": 0,
              "ticks": ""
             }
            },
            "type": "scatterternary"
           }
          ],
          "surface": [
           {
            "colorbar": {
             "outlinewidth": 0,
             "ticks": ""
            },
            "colorscale": [
             [
              0,
              "#0d0887"
             ],
             [
              0.1111111111111111,
              "#46039f"
             ],
             [
              0.2222222222222222,
              "#7201a8"
             ],
             [
              0.3333333333333333,
              "#9c179e"
             ],
             [
              0.4444444444444444,
              "#bd3786"
             ],
             [
              0.5555555555555556,
              "#d8576b"
             ],
             [
              0.6666666666666666,
              "#ed7953"
             ],
             [
              0.7777777777777778,
              "#fb9f3a"
             ],
             [
              0.8888888888888888,
              "#fdca26"
             ],
             [
              1,
              "#f0f921"
             ]
            ],
            "type": "surface"
           }
          ],
          "table": [
           {
            "cells": {
             "fill": {
              "color": "#EBF0F8"
             },
             "line": {
              "color": "white"
             }
            },
            "header": {
             "fill": {
              "color": "#C8D4E3"
             },
             "line": {
              "color": "white"
             }
            },
            "type": "table"
           }
          ]
         },
         "layout": {
          "annotationdefaults": {
           "arrowcolor": "#2a3f5f",
           "arrowhead": 0,
           "arrowwidth": 1
          },
          "autotypenumbers": "strict",
          "coloraxis": {
           "colorbar": {
            "outlinewidth": 0,
            "ticks": ""
           }
          },
          "colorscale": {
           "diverging": [
            [
             0,
             "#8e0152"
            ],
            [
             0.1,
             "#c51b7d"
            ],
            [
             0.2,
             "#de77ae"
            ],
            [
             0.3,
             "#f1b6da"
            ],
            [
             0.4,
             "#fde0ef"
            ],
            [
             0.5,
             "#f7f7f7"
            ],
            [
             0.6,
             "#e6f5d0"
            ],
            [
             0.7,
             "#b8e186"
            ],
            [
             0.8,
             "#7fbc41"
            ],
            [
             0.9,
             "#4d9221"
            ],
            [
             1,
             "#276419"
            ]
           ],
           "sequential": [
            [
             0,
             "#0d0887"
            ],
            [
             0.1111111111111111,
             "#46039f"
            ],
            [
             0.2222222222222222,
             "#7201a8"
            ],
            [
             0.3333333333333333,
             "#9c179e"
            ],
            [
             0.4444444444444444,
             "#bd3786"
            ],
            [
             0.5555555555555556,
             "#d8576b"
            ],
            [
             0.6666666666666666,
             "#ed7953"
            ],
            [
             0.7777777777777778,
             "#fb9f3a"
            ],
            [
             0.8888888888888888,
             "#fdca26"
            ],
            [
             1,
             "#f0f921"
            ]
           ],
           "sequentialminus": [
            [
             0,
             "#0d0887"
            ],
            [
             0.1111111111111111,
             "#46039f"
            ],
            [
             0.2222222222222222,
             "#7201a8"
            ],
            [
             0.3333333333333333,
             "#9c179e"
            ],
            [
             0.4444444444444444,
             "#bd3786"
            ],
            [
             0.5555555555555556,
             "#d8576b"
            ],
            [
             0.6666666666666666,
             "#ed7953"
            ],
            [
             0.7777777777777778,
             "#fb9f3a"
            ],
            [
             0.8888888888888888,
             "#fdca26"
            ],
            [
             1,
             "#f0f921"
            ]
           ]
          },
          "colorway": [
           "#636efa",
           "#EF553B",
           "#00cc96",
           "#ab63fa",
           "#FFA15A",
           "#19d3f3",
           "#FF6692",
           "#B6E880",
           "#FF97FF",
           "#FECB52"
          ],
          "font": {
           "color": "#2a3f5f"
          },
          "geo": {
           "bgcolor": "white",
           "lakecolor": "white",
           "landcolor": "#E5ECF6",
           "showlakes": true,
           "showland": true,
           "subunitcolor": "white"
          },
          "hoverlabel": {
           "align": "left"
          },
          "hovermode": "closest",
          "mapbox": {
           "style": "light"
          },
          "paper_bgcolor": "white",
          "plot_bgcolor": "#E5ECF6",
          "polar": {
           "angularaxis": {
            "gridcolor": "white",
            "linecolor": "white",
            "ticks": ""
           },
           "bgcolor": "#E5ECF6",
           "radialaxis": {
            "gridcolor": "white",
            "linecolor": "white",
            "ticks": ""
           }
          },
          "scene": {
           "xaxis": {
            "backgroundcolor": "#E5ECF6",
            "gridcolor": "white",
            "gridwidth": 2,
            "linecolor": "white",
            "showbackground": true,
            "ticks": "",
            "zerolinecolor": "white"
           },
           "yaxis": {
            "backgroundcolor": "#E5ECF6",
            "gridcolor": "white",
            "gridwidth": 2,
            "linecolor": "white",
            "showbackground": true,
            "ticks": "",
            "zerolinecolor": "white"
           },
           "zaxis": {
            "backgroundcolor": "#E5ECF6",
            "gridcolor": "white",
            "gridwidth": 2,
            "linecolor": "white",
            "showbackground": true,
            "ticks": "",
            "zerolinecolor": "white"
           }
          },
          "shapedefaults": {
           "line": {
            "color": "#2a3f5f"
           }
          },
          "ternary": {
           "aaxis": {
            "gridcolor": "white",
            "linecolor": "white",
            "ticks": ""
           },
           "baxis": {
            "gridcolor": "white",
            "linecolor": "white",
            "ticks": ""
           },
           "bgcolor": "#E5ECF6",
           "caxis": {
            "gridcolor": "white",
            "linecolor": "white",
            "ticks": ""
           }
          },
          "title": {
           "x": 0.05
          },
          "xaxis": {
           "automargin": true,
           "gridcolor": "white",
           "linecolor": "white",
           "ticks": "",
           "title": {
            "standoff": 15
           },
           "zerolinecolor": "white",
           "zerolinewidth": 2
          },
          "yaxis": {
           "automargin": true,
           "gridcolor": "white",
           "linecolor": "white",
           "ticks": "",
           "title": {
            "standoff": 15
           },
           "zerolinecolor": "white",
           "zerolinewidth": 2
          }
         }
        },
        "title": {
         "text": "Frequency of Frist 300 Features"
        },
        "width": 1500,
        "xaxis": {
         "anchor": "y",
         "domain": [
          0,
          1
         ],
         "tickangle": -90,
         "title": {
          "text": "Terms"
         }
        },
        "yaxis": {
         "anchor": "x",
         "domain": [
          0,
          1
         ],
         "title": {
          "text": "Frequency"
         }
        }
       }
      }
     },
     "metadata": {},
     "output_type": "display_data"
    }
   ],
   "source": [
    "import plotly.express as px\n",
    "\n",
    "# count the frequency of each term\n",
    "term_frequencies = np.asarray(X_counts.sum(axis=0))[0]\n",
    "\n",
    "# plot the frequency of the first 300 features\n",
    "fig = px.bar(df_todraw, x=count_vect.get_feature_names_out()[:300], y=term_frequencies[:300], title='Frequency of Frist 300 Features')\n",
    "fig.update_layout(xaxis_title='Terms', yaxis_title='Frequency', xaxis_tickangle=-90, width=1500, height=800)\n",
    "fig.show()"
   ]
  },
  {
   "cell_type": "markdown",
   "metadata": {},
   "source": [
    "### >>> **Exercise 13 (take home):** "
   ]
  },
  {
   "cell_type": "code",
   "execution_count": 96,
   "metadata": {},
   "outputs": [
    {
     "data": {
      "application/vnd.plotly.v1+json": {
       "config": {
        "plotlyServerURL": "https://plot.ly"
       },
       "data": [
        {
         "alignmentgroup": "True",
         "hovertemplate": "Term=%{x}<br>Frequency=%{y}<extra></extra>",
         "legendgroup": "",
         "marker": {
          "color": "#636efa",
          "pattern": {
           "shape": ""
          }
         },
         "name": "",
         "offsetgroup": "",
         "orientation": "v",
         "showlegend": false,
         "textposition": "auto",
         "type": "bar",
         "x": [
          "the",
          "of",
          "to",
          "and",
          "is",
          "in",
          "that",
          "it",
          "you",
          "for",
          "not",
          "this",
          "be",
          "from",
          "are",
          "edu",
          "have",
          "as",
          "on",
          "with"
         ],
         "xaxis": "x",
         "y": [
          29825,
          17660,
          17222,
          13017,
          12343,
          11226,
          10723,
          8447,
          6157,
          5962,
          5285,
          5063,
          4898,
          4877,
          4769,
          4675,
          4218,
          4015,
          3709,
          3655
         ],
         "yaxis": "y"
        }
       ],
       "layout": {
        "barmode": "relative",
        "legend": {
         "tracegroupgap": 0
        },
        "template": {
         "data": {
          "bar": [
           {
            "error_x": {
             "color": "#2a3f5f"
            },
            "error_y": {
             "color": "#2a3f5f"
            },
            "marker": {
             "line": {
              "color": "#E5ECF6",
              "width": 0.5
             },
             "pattern": {
              "fillmode": "overlay",
              "size": 10,
              "solidity": 0.2
             }
            },
            "type": "bar"
           }
          ],
          "barpolar": [
           {
            "marker": {
             "line": {
              "color": "#E5ECF6",
              "width": 0.5
             },
             "pattern": {
              "fillmode": "overlay",
              "size": 10,
              "solidity": 0.2
             }
            },
            "type": "barpolar"
           }
          ],
          "carpet": [
           {
            "aaxis": {
             "endlinecolor": "#2a3f5f",
             "gridcolor": "white",
             "linecolor": "white",
             "minorgridcolor": "white",
             "startlinecolor": "#2a3f5f"
            },
            "baxis": {
             "endlinecolor": "#2a3f5f",
             "gridcolor": "white",
             "linecolor": "white",
             "minorgridcolor": "white",
             "startlinecolor": "#2a3f5f"
            },
            "type": "carpet"
           }
          ],
          "choropleth": [
           {
            "colorbar": {
             "outlinewidth": 0,
             "ticks": ""
            },
            "type": "choropleth"
           }
          ],
          "contour": [
           {
            "colorbar": {
             "outlinewidth": 0,
             "ticks": ""
            },
            "colorscale": [
             [
              0,
              "#0d0887"
             ],
             [
              0.1111111111111111,
              "#46039f"
             ],
             [
              0.2222222222222222,
              "#7201a8"
             ],
             [
              0.3333333333333333,
              "#9c179e"
             ],
             [
              0.4444444444444444,
              "#bd3786"
             ],
             [
              0.5555555555555556,
              "#d8576b"
             ],
             [
              0.6666666666666666,
              "#ed7953"
             ],
             [
              0.7777777777777778,
              "#fb9f3a"
             ],
             [
              0.8888888888888888,
              "#fdca26"
             ],
             [
              1,
              "#f0f921"
             ]
            ],
            "type": "contour"
           }
          ],
          "contourcarpet": [
           {
            "colorbar": {
             "outlinewidth": 0,
             "ticks": ""
            },
            "type": "contourcarpet"
           }
          ],
          "heatmap": [
           {
            "colorbar": {
             "outlinewidth": 0,
             "ticks": ""
            },
            "colorscale": [
             [
              0,
              "#0d0887"
             ],
             [
              0.1111111111111111,
              "#46039f"
             ],
             [
              0.2222222222222222,
              "#7201a8"
             ],
             [
              0.3333333333333333,
              "#9c179e"
             ],
             [
              0.4444444444444444,
              "#bd3786"
             ],
             [
              0.5555555555555556,
              "#d8576b"
             ],
             [
              0.6666666666666666,
              "#ed7953"
             ],
             [
              0.7777777777777778,
              "#fb9f3a"
             ],
             [
              0.8888888888888888,
              "#fdca26"
             ],
             [
              1,
              "#f0f921"
             ]
            ],
            "type": "heatmap"
           }
          ],
          "heatmapgl": [
           {
            "colorbar": {
             "outlinewidth": 0,
             "ticks": ""
            },
            "colorscale": [
             [
              0,
              "#0d0887"
             ],
             [
              0.1111111111111111,
              "#46039f"
             ],
             [
              0.2222222222222222,
              "#7201a8"
             ],
             [
              0.3333333333333333,
              "#9c179e"
             ],
             [
              0.4444444444444444,
              "#bd3786"
             ],
             [
              0.5555555555555556,
              "#d8576b"
             ],
             [
              0.6666666666666666,
              "#ed7953"
             ],
             [
              0.7777777777777778,
              "#fb9f3a"
             ],
             [
              0.8888888888888888,
              "#fdca26"
             ],
             [
              1,
              "#f0f921"
             ]
            ],
            "type": "heatmapgl"
           }
          ],
          "histogram": [
           {
            "marker": {
             "pattern": {
              "fillmode": "overlay",
              "size": 10,
              "solidity": 0.2
             }
            },
            "type": "histogram"
           }
          ],
          "histogram2d": [
           {
            "colorbar": {
             "outlinewidth": 0,
             "ticks": ""
            },
            "colorscale": [
             [
              0,
              "#0d0887"
             ],
             [
              0.1111111111111111,
              "#46039f"
             ],
             [
              0.2222222222222222,
              "#7201a8"
             ],
             [
              0.3333333333333333,
              "#9c179e"
             ],
             [
              0.4444444444444444,
              "#bd3786"
             ],
             [
              0.5555555555555556,
              "#d8576b"
             ],
             [
              0.6666666666666666,
              "#ed7953"
             ],
             [
              0.7777777777777778,
              "#fb9f3a"
             ],
             [
              0.8888888888888888,
              "#fdca26"
             ],
             [
              1,
              "#f0f921"
             ]
            ],
            "type": "histogram2d"
           }
          ],
          "histogram2dcontour": [
           {
            "colorbar": {
             "outlinewidth": 0,
             "ticks": ""
            },
            "colorscale": [
             [
              0,
              "#0d0887"
             ],
             [
              0.1111111111111111,
              "#46039f"
             ],
             [
              0.2222222222222222,
              "#7201a8"
             ],
             [
              0.3333333333333333,
              "#9c179e"
             ],
             [
              0.4444444444444444,
              "#bd3786"
             ],
             [
              0.5555555555555556,
              "#d8576b"
             ],
             [
              0.6666666666666666,
              "#ed7953"
             ],
             [
              0.7777777777777778,
              "#fb9f3a"
             ],
             [
              0.8888888888888888,
              "#fdca26"
             ],
             [
              1,
              "#f0f921"
             ]
            ],
            "type": "histogram2dcontour"
           }
          ],
          "mesh3d": [
           {
            "colorbar": {
             "outlinewidth": 0,
             "ticks": ""
            },
            "type": "mesh3d"
           }
          ],
          "parcoords": [
           {
            "line": {
             "colorbar": {
              "outlinewidth": 0,
              "ticks": ""
             }
            },
            "type": "parcoords"
           }
          ],
          "pie": [
           {
            "automargin": true,
            "type": "pie"
           }
          ],
          "scatter": [
           {
            "fillpattern": {
             "fillmode": "overlay",
             "size": 10,
             "solidity": 0.2
            },
            "type": "scatter"
           }
          ],
          "scatter3d": [
           {
            "line": {
             "colorbar": {
              "outlinewidth": 0,
              "ticks": ""
             }
            },
            "marker": {
             "colorbar": {
              "outlinewidth": 0,
              "ticks": ""
             }
            },
            "type": "scatter3d"
           }
          ],
          "scattercarpet": [
           {
            "marker": {
             "colorbar": {
              "outlinewidth": 0,
              "ticks": ""
             }
            },
            "type": "scattercarpet"
           }
          ],
          "scattergeo": [
           {
            "marker": {
             "colorbar": {
              "outlinewidth": 0,
              "ticks": ""
             }
            },
            "type": "scattergeo"
           }
          ],
          "scattergl": [
           {
            "marker": {
             "colorbar": {
              "outlinewidth": 0,
              "ticks": ""
             }
            },
            "type": "scattergl"
           }
          ],
          "scattermapbox": [
           {
            "marker": {
             "colorbar": {
              "outlinewidth": 0,
              "ticks": ""
             }
            },
            "type": "scattermapbox"
           }
          ],
          "scatterpolar": [
           {
            "marker": {
             "colorbar": {
              "outlinewidth": 0,
              "ticks": ""
             }
            },
            "type": "scatterpolar"
           }
          ],
          "scatterpolargl": [
           {
            "marker": {
             "colorbar": {
              "outlinewidth": 0,
              "ticks": ""
             }
            },
            "type": "scatterpolargl"
           }
          ],
          "scatterternary": [
           {
            "marker": {
             "colorbar": {
              "outlinewidth": 0,
              "ticks": ""
             }
            },
            "type": "scatterternary"
           }
          ],
          "surface": [
           {
            "colorbar": {
             "outlinewidth": 0,
             "ticks": ""
            },
            "colorscale": [
             [
              0,
              "#0d0887"
             ],
             [
              0.1111111111111111,
              "#46039f"
             ],
             [
              0.2222222222222222,
              "#7201a8"
             ],
             [
              0.3333333333333333,
              "#9c179e"
             ],
             [
              0.4444444444444444,
              "#bd3786"
             ],
             [
              0.5555555555555556,
              "#d8576b"
             ],
             [
              0.6666666666666666,
              "#ed7953"
             ],
             [
              0.7777777777777778,
              "#fb9f3a"
             ],
             [
              0.8888888888888888,
              "#fdca26"
             ],
             [
              1,
              "#f0f921"
             ]
            ],
            "type": "surface"
           }
          ],
          "table": [
           {
            "cells": {
             "fill": {
              "color": "#EBF0F8"
             },
             "line": {
              "color": "white"
             }
            },
            "header": {
             "fill": {
              "color": "#C8D4E3"
             },
             "line": {
              "color": "white"
             }
            },
            "type": "table"
           }
          ]
         },
         "layout": {
          "annotationdefaults": {
           "arrowcolor": "#2a3f5f",
           "arrowhead": 0,
           "arrowwidth": 1
          },
          "autotypenumbers": "strict",
          "coloraxis": {
           "colorbar": {
            "outlinewidth": 0,
            "ticks": ""
           }
          },
          "colorscale": {
           "diverging": [
            [
             0,
             "#8e0152"
            ],
            [
             0.1,
             "#c51b7d"
            ],
            [
             0.2,
             "#de77ae"
            ],
            [
             0.3,
             "#f1b6da"
            ],
            [
             0.4,
             "#fde0ef"
            ],
            [
             0.5,
             "#f7f7f7"
            ],
            [
             0.6,
             "#e6f5d0"
            ],
            [
             0.7,
             "#b8e186"
            ],
            [
             0.8,
             "#7fbc41"
            ],
            [
             0.9,
             "#4d9221"
            ],
            [
             1,
             "#276419"
            ]
           ],
           "sequential": [
            [
             0,
             "#0d0887"
            ],
            [
             0.1111111111111111,
             "#46039f"
            ],
            [
             0.2222222222222222,
             "#7201a8"
            ],
            [
             0.3333333333333333,
             "#9c179e"
            ],
            [
             0.4444444444444444,
             "#bd3786"
            ],
            [
             0.5555555555555556,
             "#d8576b"
            ],
            [
             0.6666666666666666,
             "#ed7953"
            ],
            [
             0.7777777777777778,
             "#fb9f3a"
            ],
            [
             0.8888888888888888,
             "#fdca26"
            ],
            [
             1,
             "#f0f921"
            ]
           ],
           "sequentialminus": [
            [
             0,
             "#0d0887"
            ],
            [
             0.1111111111111111,
             "#46039f"
            ],
            [
             0.2222222222222222,
             "#7201a8"
            ],
            [
             0.3333333333333333,
             "#9c179e"
            ],
            [
             0.4444444444444444,
             "#bd3786"
            ],
            [
             0.5555555555555556,
             "#d8576b"
            ],
            [
             0.6666666666666666,
             "#ed7953"
            ],
            [
             0.7777777777777778,
             "#fb9f3a"
            ],
            [
             0.8888888888888888,
             "#fdca26"
            ],
            [
             1,
             "#f0f921"
            ]
           ]
          },
          "colorway": [
           "#636efa",
           "#EF553B",
           "#00cc96",
           "#ab63fa",
           "#FFA15A",
           "#19d3f3",
           "#FF6692",
           "#B6E880",
           "#FF97FF",
           "#FECB52"
          ],
          "font": {
           "color": "#2a3f5f"
          },
          "geo": {
           "bgcolor": "white",
           "lakecolor": "white",
           "landcolor": "#E5ECF6",
           "showlakes": true,
           "showland": true,
           "subunitcolor": "white"
          },
          "hoverlabel": {
           "align": "left"
          },
          "hovermode": "closest",
          "mapbox": {
           "style": "light"
          },
          "paper_bgcolor": "white",
          "plot_bgcolor": "#E5ECF6",
          "polar": {
           "angularaxis": {
            "gridcolor": "white",
            "linecolor": "white",
            "ticks": ""
           },
           "bgcolor": "#E5ECF6",
           "radialaxis": {
            "gridcolor": "white",
            "linecolor": "white",
            "ticks": ""
           }
          },
          "scene": {
           "xaxis": {
            "backgroundcolor": "#E5ECF6",
            "gridcolor": "white",
            "gridwidth": 2,
            "linecolor": "white",
            "showbackground": true,
            "ticks": "",
            "zerolinecolor": "white"
           },
           "yaxis": {
            "backgroundcolor": "#E5ECF6",
            "gridcolor": "white",
            "gridwidth": 2,
            "linecolor": "white",
            "showbackground": true,
            "ticks": "",
            "zerolinecolor": "white"
           },
           "zaxis": {
            "backgroundcolor": "#E5ECF6",
            "gridcolor": "white",
            "gridwidth": 2,
            "linecolor": "white",
            "showbackground": true,
            "ticks": "",
            "zerolinecolor": "white"
           }
          },
          "shapedefaults": {
           "line": {
            "color": "#2a3f5f"
           }
          },
          "ternary": {
           "aaxis": {
            "gridcolor": "white",
            "linecolor": "white",
            "ticks": ""
           },
           "baxis": {
            "gridcolor": "white",
            "linecolor": "white",
            "ticks": ""
           },
           "bgcolor": "#E5ECF6",
           "caxis": {
            "gridcolor": "white",
            "linecolor": "white",
            "ticks": ""
           }
          },
          "title": {
           "x": 0.05
          },
          "xaxis": {
           "automargin": true,
           "gridcolor": "white",
           "linecolor": "white",
           "ticks": "",
           "title": {
            "standoff": 15
           },
           "zerolinecolor": "white",
           "zerolinewidth": 2
          },
          "yaxis": {
           "automargin": true,
           "gridcolor": "white",
           "linecolor": "white",
           "ticks": "",
           "title": {
            "standoff": 15
           },
           "zerolinecolor": "white",
           "zerolinewidth": 2
          }
         }
        },
        "title": {
         "text": "Top 20 Features by Frequency"
        },
        "xaxis": {
         "anchor": "y",
         "domain": [
          0,
          1
         ],
         "tickangle": -45,
         "title": {
          "text": "Terms"
         }
        },
        "yaxis": {
         "anchor": "x",
         "domain": [
          0,
          1
         ],
         "title": {
          "text": "Frequency"
         }
        }
       }
      }
     },
     "metadata": {},
     "output_type": "display_data"
    }
   ],
   "source": [
    "# Create a dataframe for sorting the top 20 features\n",
    "df = pd.DataFrame({'Term': count_vect.get_feature_names_out(), 'Frequency': term_frequencies})\n",
    "df_sorted = df.sort_values(by='Frequency', ascending=False).head(20)\n",
    "\n",
    "# plot the frequency of the top 20 features\n",
    "fig = px.bar(df_sorted, x='Term', y='Frequency', title='Top 20 Features by Frequency')\n",
    "fig.update_layout(xaxis_title='Terms', yaxis_title='Frequency', xaxis_tickangle=-45)\n",
    "fig.show()"
   ]
  },
  {
   "cell_type": "markdown",
   "metadata": {},
   "source": [
    "### >>> **Exercise 14 (take home):** "
   ]
  },
  {
   "cell_type": "code",
   "execution_count": 106,
   "metadata": {},
   "outputs": [
    {
     "name": "stderr",
     "output_type": "stream",
     "text": [
      "C:\\Users\\jill\\AppData\\Local\\Temp\\ipykernel_35680\\4195775830.py:7: UserWarning:\n",
      "\n",
      "set_ticklabels() should only be used with a fixed number of ticks, i.e. after set_ticks() or using a FixedLocator.\n",
      "\n"
     ]
    },
    {
     "data": {
      "text/plain": [
       "[Text(0, 0, '10'),\n",
       " Text(1, 0, '00'),\n",
       " Text(2, 0, '100'),\n",
       " Text(3, 0, '03'),\n",
       " Text(4, 0, '01'),\n",
       " Text(5, 0, '000'),\n",
       " Text(6, 0, '05'),\n",
       " Text(7, 0, '02'),\n",
       " Text(8, 0, '04'),\n",
       " Text(9, 0, '08'),\n",
       " Text(10, 0, '09'),\n",
       " Text(11, 0, '07'),\n",
       " Text(12, 0, '0358'),\n",
       " Text(13, 0, '1000'),\n",
       " Text(14, 0, '101'),\n",
       " Text(15, 0, '06'),\n",
       " Text(16, 0, '00pm'),\n",
       " Text(17, 0, '1013'),\n",
       " Text(18, 0, '102'),\n",
       " Text(19, 0, '1024x768'),\n",
       " Text(20, 0, '071'),\n",
       " Text(21, 0, '1024'),\n",
       " Text(22, 0, '00am'),\n",
       " Text(23, 0, '0349'),\n",
       " Text(24, 0, '084042'),\n",
       " Text(25, 0, '0511'),\n",
       " Text(26, 0, '081052'),\n",
       " Text(27, 0, '101010'),\n",
       " Text(28, 0, '0200'),\n",
       " Text(29, 0, '0100'),\n",
       " Text(30, 0, '103'),\n",
       " Text(31, 0, '095220'),\n",
       " Text(32, 0, '0423'),\n",
       " Text(33, 0, '040'),\n",
       " Text(34, 0, '01580'),\n",
       " Text(35, 0, '02118'),\n",
       " Text(36, 0, '0293'),\n",
       " Text(37, 0, '0600'),\n",
       " Text(38, 0, '02173'),\n",
       " Text(39, 0, '041343'),\n",
       " Text(40, 0, '023044'),\n",
       " Text(41, 0, '024103'),\n",
       " Text(42, 0, '0608'),\n",
       " Text(43, 0, '06320'),\n",
       " Text(44, 0, '0x100'),\n",
       " Text(45, 0, '102007'),\n",
       " Text(46, 0, '0001'),\n",
       " Text(47, 0, '002'),\n",
       " Text(48, 0, '10101'),\n",
       " Text(49, 0, '0010580b'),\n",
       " Text(50, 0, '103237'),\n",
       " Text(51, 0, '025240'),\n",
       " Text(52, 0, '024150'),\n",
       " Text(53, 0, '025924'),\n",
       " Text(54, 0, '004021809'),\n",
       " Text(55, 0, '031423'),\n",
       " Text(56, 0, '091844'),\n",
       " Text(57, 0, '0987'),\n",
       " Text(58, 0, '033446'),\n",
       " Text(59, 0, '034226'),\n",
       " Text(60, 0, '003258u19250'),\n",
       " Text(61, 0, '093300'),\n",
       " Text(62, 0, '0391'),\n",
       " Text(63, 0, '0x'),\n",
       " Text(64, 0, '0930'),\n",
       " Text(65, 0, '011720'),\n",
       " Text(66, 0, '001642'),\n",
       " Text(67, 0, '0510'),\n",
       " Text(68, 0, '0000001200'),\n",
       " Text(69, 0, '08057'),\n",
       " Text(70, 0, '063425'),\n",
       " Text(71, 0, '061'),\n",
       " Text(72, 0, '000usd'),\n",
       " Text(73, 0, '1028'),\n",
       " Text(74, 0, '090030'),\n",
       " Text(75, 0, '071823'),\n",
       " Text(76, 0, '050046mvs104'),\n",
       " Text(77, 0, '0500'),\n",
       " Text(78, 0, '1024x786x24'),\n",
       " Text(79, 0, '044140'),\n",
       " Text(80, 0, '043654'),\n",
       " Text(81, 0, '091139'),\n",
       " Text(82, 0, '091258'),\n",
       " Text(83, 0, '032251'),\n",
       " Text(84, 0, '0184'),\n",
       " Text(85, 0, '10179'),\n",
       " Text(86, 0, '013'),\n",
       " Text(87, 0, '100k'),\n",
       " Text(88, 0, '100grams'),\n",
       " Text(89, 0, '0138'),\n",
       " Text(90, 0, '015931'),\n",
       " Text(91, 0, '10016'),\n",
       " Text(92, 0, '01a'),\n",
       " Text(93, 0, '100015'),\n",
       " Text(94, 0, '1015'),\n",
       " Text(95, 0, '020504'),\n",
       " Text(96, 0, '100000'),\n",
       " Text(97, 0, '10000'),\n",
       " Text(98, 0, '0721'),\n",
       " Text(99, 0, '02115'),\n",
       " Text(100, 0, '02142'),\n",
       " Text(101, 0, '10193'),\n",
       " Text(102, 0, '081303'),\n",
       " Text(103, 0, '0x1f'),\n",
       " Text(104, 0, '083731'),\n",
       " Text(105, 0, '084'),\n",
       " Text(106, 0, '1007'),\n",
       " Text(107, 0, '084258'),\n",
       " Text(108, 0, '085526'),\n",
       " Text(109, 0, '08690'),\n",
       " Text(110, 0, '101747'),\n",
       " Text(111, 0, '08786'),\n",
       " Text(112, 0, '1027'),\n",
       " Text(113, 0, '08934'),\n",
       " Text(114, 0, '10056'),\n",
       " Text(115, 0, '10250'),\n",
       " Text(116, 0, '0900'),\n",
       " Text(117, 0, '1005'),\n",
       " Text(118, 0, '1010'),\n",
       " Text(119, 0, '0901'),\n",
       " Text(120, 0, '102810'),\n",
       " Text(121, 0, '1030'),\n",
       " Text(122, 0, '1029'),\n",
       " Text(123, 0, '100c'),\n",
       " Text(124, 0, '0729'),\n",
       " Text(125, 0, '10368'),\n",
       " Text(126, 0, '07410'),\n",
       " Text(127, 0, '0752'),\n",
       " Text(128, 0, '07653'),\n",
       " Text(129, 0, '100megs'),\n",
       " Text(130, 0, '077'),\n",
       " Text(131, 0, '07748'),\n",
       " Text(132, 0, '0x8'),\n",
       " Text(133, 0, '0804'),\n",
       " Text(134, 0, '100lez'),\n",
       " Text(135, 0, '0x3d4'),\n",
       " Text(136, 0, '101h'),\n",
       " Text(137, 0, '080719'),\n",
       " Text(138, 0, '081'),\n",
       " Text(139, 0, '0903'),\n",
       " Text(140, 0, '10036'),\n",
       " Text(141, 0, '10038'),\n",
       " Text(142, 0, '0______________________________________________________________________0'),\n",
       " Text(143, 0, '100039'),\n",
       " Text(144, 0, '1024x728'),\n",
       " Text(145, 0, '1024x512'),\n",
       " Text(146, 0, '0u1'),\n",
       " Text(147, 0, '1023'),\n",
       " Text(148, 0, '100mg'),\n",
       " Text(149, 0, '0_'),\n",
       " Text(150, 0, '0a'),\n",
       " Text(151, 0, '0943'),\n",
       " Text(152, 0, '0b'),\n",
       " Text(153, 0, '0b10'),\n",
       " Text(154, 0, '0b15'),\n",
       " Text(155, 0, '0e9'),\n",
       " Text(156, 0, '1024x1024'),\n",
       " Text(157, 0, '0s'),\n",
       " Text(158, 0, '0hb'),\n",
       " Text(159, 0, '095148'),\n",
       " Text(160, 0, '093904'),\n",
       " Text(161, 0, '0l7'),\n",
       " Text(162, 0, '0x00'),\n",
       " Text(163, 0, '090306'),\n",
       " Text(164, 0, '0908'),\n",
       " Text(165, 0, '10032'),\n",
       " Text(166, 0, '1003'),\n",
       " Text(167, 0, '1024x768x65000'),\n",
       " Text(168, 0, '10021'),\n",
       " Text(169, 0, '0xc010'),\n",
       " Text(170, 0, '10012'),\n",
       " Text(171, 0, '10196'),\n",
       " Text(172, 0, '092051'),\n",
       " Text(173, 0, '0922'),\n",
       " Text(174, 0, '0926'),\n",
       " Text(175, 0, '1001'),\n",
       " Text(176, 0, '1024x768x24'),\n",
       " Text(177, 0, '1000mg'),\n",
       " Text(178, 0, '100042'),\n",
       " Text(179, 0, '0xc018'),\n",
       " Text(180, 0, '0513'),\n",
       " Text(181, 0, '071613j5j'),\n",
       " Text(182, 0, '0179'),\n",
       " Text(183, 0, '012019'),\n",
       " Text(184, 0, '012536'),\n",
       " Text(185, 0, '012946'),\n",
       " Text(186, 0, '013034'),\n",
       " Text(187, 0, '0131'),\n",
       " Text(188, 0, '013423tan102'),\n",
       " Text(189, 0, '013657'),\n",
       " Text(190, 0, '013846'),\n",
       " Text(191, 0, '0150'),\n",
       " Text(192, 0, '015518'),\n",
       " Text(193, 0, '01720'),\n",
       " Text(194, 0, '01752'),\n",
       " Text(195, 0, '01821'),\n",
       " Text(196, 0, '011308pxf3'),\n",
       " Text(197, 0, '01830'),\n",
       " Text(198, 0, '01852'),\n",
       " Text(199, 0, '01854'),\n",
       " Text(200, 0, '01890'),\n",
       " Text(201, 0, '0195'),\n",
       " Text(202, 0, '0199'),\n",
       " Text(203, 0, '01wb'),\n",
       " Text(204, 0, '020'),\n",
       " Text(205, 0, '020637'),\n",
       " Text(206, 0, '020646'),\n",
       " Text(207, 0, '020701tan102'),\n",
       " Text(208, 0, '020751'),\n",
       " Text(209, 0, '011605'),\n",
       " Text(210, 0, '011255'),\n",
       " Text(211, 0, '02154'),\n",
       " Text(212, 0, '0028'),\n",
       " Text(213, 0, '0000'),\n",
       " Text(214, 0, '000005102000'),\n",
       " Text(215, 0, '000100255pixel'),\n",
       " Text(216, 0, '00014'),\n",
       " Text(217, 0, '000406'),\n",
       " Text(218, 0, '0007'),\n",
       " Text(219, 0, '0010'),\n",
       " Text(220, 0, '001004'),\n",
       " Text(221, 0, '001125'),\n",
       " Text(222, 0, '001200201pixel'),\n",
       " Text(223, 0, '0014'),\n",
       " Text(224, 0, '00196'),\n",
       " Text(225, 0, '0033'),\n",
       " Text(226, 0, '010702'),\n",
       " Text(227, 0, '0038'),\n",
       " Text(228, 0, '0039'),\n",
       " Text(229, 0, '004158'),\n",
       " Text(230, 0, '004627'),\n",
       " Text(231, 0, '0049'),\n",
       " Text(232, 0, '00500'),\n",
       " Text(233, 0, '005148'),\n",
       " Text(234, 0, '00630'),\n",
       " Text(235, 0, '008561'),\n",
       " Text(236, 0, '0094'),\n",
       " Text(237, 0, '00index'),\n",
       " Text(238, 0, '010116'),\n",
       " Text(239, 0, '02139'),\n",
       " Text(240, 0, '02160'),\n",
       " Text(241, 0, '07102'),\n",
       " Text(242, 0, '055958'),\n",
       " Text(243, 0, '04g'),\n",
       " Text(244, 0, '0502'),\n",
       " Text(245, 0, '050524'),\n",
       " Text(246, 0, '050750'),\n",
       " Text(247, 0, '051039'),\n",
       " Text(248, 0, '051201'),\n",
       " Text(249, 0, '051246'),\n",
       " Text(250, 0, '053250'),\n",
       " Text(251, 0, '05401'),\n",
       " Text(252, 0, '05402'),\n",
       " Text(253, 0, '05446'),\n",
       " Text(254, 0, '054600'),\n",
       " Text(255, 0, '0578'),\n",
       " Text(256, 0, '042100'),\n",
       " Text(257, 0, '0600lines'),\n",
       " Text(258, 0, '060493161931'),\n",
       " Text(259, 0, '062328'),\n",
       " Text(260, 0, '062908mvs104'),\n",
       " Text(261, 0, '0649'),\n",
       " Text(262, 0, '06510'),\n",
       " Text(263, 0, '065230'),\n",
       " Text(264, 0, '0656'),\n",
       " Text(265, 0, '068'),\n",
       " Text(266, 0, '0700'),\n",
       " Text(267, 0, '0704'),\n",
       " Text(268, 0, '0706'),\n",
       " Text(269, 0, '044946'),\n",
       " Text(270, 0, '0418'),\n",
       " Text(271, 0, '021635'),\n",
       " Text(272, 0, '03051'),\n",
       " Text(273, 0, '021708'),\n",
       " Text(274, 0, '0223'),\n",
       " Text(275, 0, '02254'),\n",
       " Text(276, 0, '022621tan102'),\n",
       " Text(277, 0, '0235'),\n",
       " Text(278, 0, '0237'),\n",
       " Text(279, 0, '024626'),\n",
       " Text(280, 0, '0278'),\n",
       " Text(281, 0, '02908'),\n",
       " Text(282, 0, '030105'),\n",
       " Text(283, 0, '0303'),\n",
       " Text(284, 0, '030334'),\n",
       " Text(285, 0, '0306'),\n",
       " Text(286, 0, '0410'),\n",
       " Text(287, 0, '030734'),\n",
       " Text(288, 0, '0318'),\n",
       " Text(289, 0, '0330'),\n",
       " Text(290, 0, '033843'),\n",
       " Text(291, 0, '0362'),\n",
       " Text(292, 0, '0372'),\n",
       " Text(293, 0, '03756'),\n",
       " Text(294, 0, '0380'),\n",
       " Text(295, 0, '040286'),\n",
       " Text(296, 0, '04046'),\n",
       " Text(297, 0, '040493161915'),\n",
       " Text(298, 0, '040819'),\n",
       " Text(299, 0, '1039')]"
      ]
     },
     "execution_count": 106,
     "metadata": {},
     "output_type": "execute_result"
    },
    {
     "data": {
      "image/png": "[encoded data removed]",
      "text/plain": [
       "<Figure size 10000x3000 with 1 Axes>"
      ]
     },
     "metadata": {},
     "output_type": "display_data"
    }
   ],
   "source": [
    "# Create a dataframe for sorting the first 300 features\n",
    "df = pd.DataFrame({'Term': count_vect.get_feature_names_out()[:300], 'Frequency': term_frequencies[:300]})\n",
    "df_sorted = df.sort_values(by='Frequency', ascending=False)\n",
    "\n",
    "# plot the frequency of the first 300 features\n",
    "plt.subplots(figsize=(100, 30))\n",
    "g = sns.barplot(x='Term', y='Frequency', data=df_sorted)\n",
    "g.set_xticklabels(g.get_xticklabels(), rotation=90)\n"
   ]
  },
  {
   "cell_type": "markdown",
   "metadata": {},
   "source": [
    "### >>> **Exercise 15 (take home):** \n"
   ]
  },
  {
   "cell_type": "code",
   "execution_count": 107,
   "metadata": {},
   "outputs": [
    {
     "name": "stderr",
     "output_type": "stream",
     "text": [
      "C:\\Users\\jill\\AppData\\Local\\Temp\\ipykernel_35680\\3260780071.py:11: UserWarning:\n",
      "\n",
      "set_ticklabels() should only be used with a fixed number of ticks, i.e. after set_ticks() or using a FixedLocator.\n",
      "\n"
     ]
    },
    {
     "data": {
      "text/plain": [
       "[Text(0, 0, '10'),\n",
       " Text(1, 0, '00'),\n",
       " Text(2, 0, '100'),\n",
       " Text(3, 0, '03'),\n",
       " Text(4, 0, '01'),\n",
       " Text(5, 0, '000'),\n",
       " Text(6, 0, '05'),\n",
       " Text(7, 0, '02'),\n",
       " Text(8, 0, '04'),\n",
       " Text(9, 0, '08'),\n",
       " Text(10, 0, '09'),\n",
       " Text(11, 0, '07'),\n",
       " Text(12, 0, '0358'),\n",
       " Text(13, 0, '1000'),\n",
       " Text(14, 0, '101'),\n",
       " Text(15, 0, '06'),\n",
       " Text(16, 0, '00pm'),\n",
       " Text(17, 0, '1013'),\n",
       " Text(18, 0, '102'),\n",
       " Text(19, 0, '1024x768'),\n",
       " Text(20, 0, '071'),\n",
       " Text(21, 0, '1024'),\n",
       " Text(22, 0, '00am'),\n",
       " Text(23, 0, '0349'),\n",
       " Text(24, 0, '084042'),\n",
       " Text(25, 0, '0511'),\n",
       " Text(26, 0, '081052'),\n",
       " Text(27, 0, '101010'),\n",
       " Text(28, 0, '0200'),\n",
       " Text(29, 0, '0100'),\n",
       " Text(30, 0, '103'),\n",
       " Text(31, 0, '095220'),\n",
       " Text(32, 0, '0423'),\n",
       " Text(33, 0, '040'),\n",
       " Text(34, 0, '01580'),\n",
       " Text(35, 0, '02118'),\n",
       " Text(36, 0, '0293'),\n",
       " Text(37, 0, '0600'),\n",
       " Text(38, 0, '02173'),\n",
       " Text(39, 0, '041343'),\n",
       " Text(40, 0, '023044'),\n",
       " Text(41, 0, '024103'),\n",
       " Text(42, 0, '0608'),\n",
       " Text(43, 0, '06320'),\n",
       " Text(44, 0, '0x100'),\n",
       " Text(45, 0, '102007'),\n",
       " Text(46, 0, '0001'),\n",
       " Text(47, 0, '002'),\n",
       " Text(48, 0, '10101'),\n",
       " Text(49, 0, '0010580b'),\n",
       " Text(50, 0, '103237'),\n",
       " Text(51, 0, '025240'),\n",
       " Text(52, 0, '024150'),\n",
       " Text(53, 0, '025924'),\n",
       " Text(54, 0, '004021809'),\n",
       " Text(55, 0, '031423'),\n",
       " Text(56, 0, '091844'),\n",
       " Text(57, 0, '0987'),\n",
       " Text(58, 0, '033446'),\n",
       " Text(59, 0, '034226'),\n",
       " Text(60, 0, '003258u19250'),\n",
       " Text(61, 0, '093300'),\n",
       " Text(62, 0, '0391'),\n",
       " Text(63, 0, '0x'),\n",
       " Text(64, 0, '0930'),\n",
       " Text(65, 0, '011720'),\n",
       " Text(66, 0, '001642'),\n",
       " Text(67, 0, '0510'),\n",
       " Text(68, 0, '0000001200'),\n",
       " Text(69, 0, '08057'),\n",
       " Text(70, 0, '063425'),\n",
       " Text(71, 0, '061'),\n",
       " Text(72, 0, '000usd'),\n",
       " Text(73, 0, '1028'),\n",
       " Text(74, 0, '090030'),\n",
       " Text(75, 0, '071823'),\n",
       " Text(76, 0, '050046mvs104'),\n",
       " Text(77, 0, '0500'),\n",
       " Text(78, 0, '1024x786x24'),\n",
       " Text(79, 0, '044140'),\n",
       " Text(80, 0, '043654'),\n",
       " Text(81, 0, '091139'),\n",
       " Text(82, 0, '091258'),\n",
       " Text(83, 0, '032251'),\n",
       " Text(84, 0, '0184'),\n",
       " Text(85, 0, '10179'),\n",
       " Text(86, 0, '013'),\n",
       " Text(87, 0, '100k'),\n",
       " Text(88, 0, '100grams'),\n",
       " Text(89, 0, '0138'),\n",
       " Text(90, 0, '015931'),\n",
       " Text(91, 0, '10016'),\n",
       " Text(92, 0, '01a'),\n",
       " Text(93, 0, '100015'),\n",
       " Text(94, 0, '1015'),\n",
       " Text(95, 0, '020504'),\n",
       " Text(96, 0, '100000'),\n",
       " Text(97, 0, '10000'),\n",
       " Text(98, 0, '0721'),\n",
       " Text(99, 0, '02115'),\n",
       " Text(100, 0, '02142'),\n",
       " Text(101, 0, '10193'),\n",
       " Text(102, 0, '081303'),\n",
       " Text(103, 0, '0x1f'),\n",
       " Text(104, 0, '083731'),\n",
       " Text(105, 0, '084'),\n",
       " Text(106, 0, '1007'),\n",
       " Text(107, 0, '084258'),\n",
       " Text(108, 0, '085526'),\n",
       " Text(109, 0, '08690'),\n",
       " Text(110, 0, '101747'),\n",
       " Text(111, 0, '08786'),\n",
       " Text(112, 0, '1027'),\n",
       " Text(113, 0, '08934'),\n",
       " Text(114, 0, '10056'),\n",
       " Text(115, 0, '10250'),\n",
       " Text(116, 0, '0900'),\n",
       " Text(117, 0, '1005'),\n",
       " Text(118, 0, '1010'),\n",
       " Text(119, 0, '0901'),\n",
       " Text(120, 0, '102810'),\n",
       " Text(121, 0, '1030'),\n",
       " Text(122, 0, '1029'),\n",
       " Text(123, 0, '100c'),\n",
       " Text(124, 0, '0729'),\n",
       " Text(125, 0, '10368'),\n",
       " Text(126, 0, '07410'),\n",
       " Text(127, 0, '0752'),\n",
       " Text(128, 0, '07653'),\n",
       " Text(129, 0, '100megs'),\n",
       " Text(130, 0, '077'),\n",
       " Text(131, 0, '07748'),\n",
       " Text(132, 0, '0x8'),\n",
       " Text(133, 0, '0804'),\n",
       " Text(134, 0, '100lez'),\n",
       " Text(135, 0, '0x3d4'),\n",
       " Text(136, 0, '101h'),\n",
       " Text(137, 0, '080719'),\n",
       " Text(138, 0, '081'),\n",
       " Text(139, 0, '0903'),\n",
       " Text(140, 0, '10036'),\n",
       " Text(141, 0, '10038'),\n",
       " Text(142, 0, '0______________________________________________________________________0'),\n",
       " Text(143, 0, '100039'),\n",
       " Text(144, 0, '1024x728'),\n",
       " Text(145, 0, '1024x512'),\n",
       " Text(146, 0, '0u1'),\n",
       " Text(147, 0, '1023'),\n",
       " Text(148, 0, '100mg'),\n",
       " Text(149, 0, '0_'),\n",
       " Text(150, 0, '0a'),\n",
       " Text(151, 0, '0943'),\n",
       " Text(152, 0, '0b'),\n",
       " Text(153, 0, '0b10'),\n",
       " Text(154, 0, '0b15'),\n",
       " Text(155, 0, '0e9'),\n",
       " Text(156, 0, '1024x1024'),\n",
       " Text(157, 0, '0s'),\n",
       " Text(158, 0, '0hb'),\n",
       " Text(159, 0, '095148'),\n",
       " Text(160, 0, '093904'),\n",
       " Text(161, 0, '0l7'),\n",
       " Text(162, 0, '0x00'),\n",
       " Text(163, 0, '090306'),\n",
       " Text(164, 0, '0908'),\n",
       " Text(165, 0, '10032'),\n",
       " Text(166, 0, '1003'),\n",
       " Text(167, 0, '1024x768x65000'),\n",
       " Text(168, 0, '10021'),\n",
       " Text(169, 0, '0xc010'),\n",
       " Text(170, 0, '10012'),\n",
       " Text(171, 0, '10196'),\n",
       " Text(172, 0, '092051'),\n",
       " Text(173, 0, '0922'),\n",
       " Text(174, 0, '0926'),\n",
       " Text(175, 0, '1001'),\n",
       " Text(176, 0, '1024x768x24'),\n",
       " Text(177, 0, '1000mg'),\n",
       " Text(178, 0, '100042'),\n",
       " Text(179, 0, '0xc018'),\n",
       " Text(180, 0, '0513'),\n",
       " Text(181, 0, '071613j5j'),\n",
       " Text(182, 0, '0179'),\n",
       " Text(183, 0, '012019'),\n",
       " Text(184, 0, '012536'),\n",
       " Text(185, 0, '012946'),\n",
       " Text(186, 0, '013034'),\n",
       " Text(187, 0, '0131'),\n",
       " Text(188, 0, '013423tan102'),\n",
       " Text(189, 0, '013657'),\n",
       " Text(190, 0, '013846'),\n",
       " Text(191, 0, '0150'),\n",
       " Text(192, 0, '015518'),\n",
       " Text(193, 0, '01720'),\n",
       " Text(194, 0, '01752'),\n",
       " Text(195, 0, '01821'),\n",
       " Text(196, 0, '011308pxf3'),\n",
       " Text(197, 0, '01830'),\n",
       " Text(198, 0, '01852'),\n",
       " Text(199, 0, '01854'),\n",
       " Text(200, 0, '01890'),\n",
       " Text(201, 0, '0195'),\n",
       " Text(202, 0, '0199'),\n",
       " Text(203, 0, '01wb'),\n",
       " Text(204, 0, '020'),\n",
       " Text(205, 0, '020637'),\n",
       " Text(206, 0, '020646'),\n",
       " Text(207, 0, '020701tan102'),\n",
       " Text(208, 0, '020751'),\n",
       " Text(209, 0, '011605'),\n",
       " Text(210, 0, '011255'),\n",
       " Text(211, 0, '02154'),\n",
       " Text(212, 0, '0028'),\n",
       " Text(213, 0, '0000'),\n",
       " Text(214, 0, '000005102000'),\n",
       " Text(215, 0, '000100255pixel'),\n",
       " Text(216, 0, '00014'),\n",
       " Text(217, 0, '000406'),\n",
       " Text(218, 0, '0007'),\n",
       " Text(219, 0, '0010'),\n",
       " Text(220, 0, '001004'),\n",
       " Text(221, 0, '001125'),\n",
       " Text(222, 0, '001200201pixel'),\n",
       " Text(223, 0, '0014'),\n",
       " Text(224, 0, '00196'),\n",
       " Text(225, 0, '0033'),\n",
       " Text(226, 0, '010702'),\n",
       " Text(227, 0, '0038'),\n",
       " Text(228, 0, '0039'),\n",
       " Text(229, 0, '004158'),\n",
       " Text(230, 0, '004627'),\n",
       " Text(231, 0, '0049'),\n",
       " Text(232, 0, '00500'),\n",
       " Text(233, 0, '005148'),\n",
       " Text(234, 0, '00630'),\n",
       " Text(235, 0, '008561'),\n",
       " Text(236, 0, '0094'),\n",
       " Text(237, 0, '00index'),\n",
       " Text(238, 0, '010116'),\n",
       " Text(239, 0, '02139'),\n",
       " Text(240, 0, '02160'),\n",
       " Text(241, 0, '07102'),\n",
       " Text(242, 0, '055958'),\n",
       " Text(243, 0, '04g'),\n",
       " Text(244, 0, '0502'),\n",
       " Text(245, 0, '050524'),\n",
       " Text(246, 0, '050750'),\n",
       " Text(247, 0, '051039'),\n",
       " Text(248, 0, '051201'),\n",
       " Text(249, 0, '051246'),\n",
       " Text(250, 0, '053250'),\n",
       " Text(251, 0, '05401'),\n",
       " Text(252, 0, '05402'),\n",
       " Text(253, 0, '05446'),\n",
       " Text(254, 0, '054600'),\n",
       " Text(255, 0, '0578'),\n",
       " Text(256, 0, '042100'),\n",
       " Text(257, 0, '0600lines'),\n",
       " Text(258, 0, '060493161931'),\n",
       " Text(259, 0, '062328'),\n",
       " Text(260, 0, '062908mvs104'),\n",
       " Text(261, 0, '0649'),\n",
       " Text(262, 0, '06510'),\n",
       " Text(263, 0, '065230'),\n",
       " Text(264, 0, '0656'),\n",
       " Text(265, 0, '068'),\n",
       " Text(266, 0, '0700'),\n",
       " Text(267, 0, '0704'),\n",
       " Text(268, 0, '0706'),\n",
       " Text(269, 0, '044946'),\n",
       " Text(270, 0, '0418'),\n",
       " Text(271, 0, '021635'),\n",
       " Text(272, 0, '03051'),\n",
       " Text(273, 0, '021708'),\n",
       " Text(274, 0, '0223'),\n",
       " Text(275, 0, '02254'),\n",
       " Text(276, 0, '022621tan102'),\n",
       " Text(277, 0, '0235'),\n",
       " Text(278, 0, '0237'),\n",
       " Text(279, 0, '024626'),\n",
       " Text(280, 0, '0278'),\n",
       " Text(281, 0, '02908'),\n",
       " Text(282, 0, '030105'),\n",
       " Text(283, 0, '0303'),\n",
       " Text(284, 0, '030334'),\n",
       " Text(285, 0, '0306'),\n",
       " Text(286, 0, '0410'),\n",
       " Text(287, 0, '030734'),\n",
       " Text(288, 0, '0318'),\n",
       " Text(289, 0, '0330'),\n",
       " Text(290, 0, '033843'),\n",
       " Text(291, 0, '0362'),\n",
       " Text(292, 0, '0372'),\n",
       " Text(293, 0, '03756'),\n",
       " Text(294, 0, '0380'),\n",
       " Text(295, 0, '040286'),\n",
       " Text(296, 0, '04046'),\n",
       " Text(297, 0, '040493161915'),\n",
       " Text(298, 0, '040819'),\n",
       " Text(299, 0, '1039')]"
      ]
     },
     "execution_count": 107,
     "metadata": {},
     "output_type": "execute_result"
    },
    {
     "data": {
      "image/png": "[encoded data removed]",
      "text/plain": [
       "<Figure size 10000x3000 with 1 Axes>"
      ]
     },
     "metadata": {},
     "output_type": "display_data"
    }
   ],
   "source": [
    "import math\n",
    "term_frequencies_log = [math.log(i) for i in term_frequencies]\n",
    "\n",
    "# Create a dataframe for sorting the first 300 features using log \n",
    "df = pd.DataFrame({'Term': count_vect.get_feature_names_out()[:300], 'Frequency': term_frequencies_log[:300]})\n",
    "df_sorted = df.sort_values(by='Frequency', ascending=False)\n",
    "\n",
    "# plot the frequency of the first 300 features\n",
    "plt.subplots(figsize=(100, 30))\n",
    "g = sns.barplot(x='Term', y='Frequency', data=df_sorted)\n",
    "g.set_xticklabels(g.get_xticklabels(), rotation=90)"
   ]
  },
  {
   "cell_type": "markdown",
   "metadata": {},
   "source": [
    "**Answer**  \n",
    "Using term_frequencies_log instead of raw frequencies to plot the chart can reduce the disparity between high-frequency and low-frequency terms, making the chart more balanced and readable.\n",
    "  \n",
    "Log frequencies also can help identify terms that are not prominent in raw frequencies but are still important in specific contexts.  "
   ]
  },
  {
   "cell_type": "markdown",
   "metadata": {},
   "source": [
    "### >>> **Exercise 16 (take home):** \n"
   ]
  },
  {
   "cell_type": "code",
   "execution_count": 116,
   "metadata": {},
   "outputs": [],
   "source": [
    "import pandas as pd\n",
    "from sklearn.feature_extraction.text import CountVectorizer\n",
    "\n",
    "#Create separate DataFrames for each category\n",
    "categories = X['category_name'].unique()  # Get unique category labels\n",
    "category_dfs = {}  # Dictionary to store DataFrames for each category\n",
    "\n",
    "for category in categories:\n",
    "    # Filter the original DataFrame by category\n",
    "    category_dfs[category] = X[X['category_name'] == category].copy()\n",
    "\n",
    "# Function to create term-document frequency DataFrame for each category\n",
    "def create_term_document_df(df):\n",
    "    count_vect = CountVectorizer()  # Initialize the CountVectorizer\n",
    "    X_counts = count_vect.fit_transform(df['text'])  # Transform the text data into word counts\n",
    "    \n",
    "    # Get the unique words (vocabulary) from the vectorizer\n",
    "    words = count_vect.get_feature_names_out()\n",
    "    \n",
    "    # Create a DataFrame where rows are documents and columns are words\n",
    "    term_document_df = pd.DataFrame(X_counts.toarray(), columns=words)\n",
    "    \n",
    "    return term_document_df\n",
    "\n",
    "# Create term-document frequency DataFrames for each category\n",
    "filt_term_document_dfs = {}  # Dictionary to store term-document DataFrames for each category\n",
    "\n",
    "for category in categories:\n",
    "    filt_term_document_dfs[category] = create_term_document_df(category_dfs[category])"
   ]
  },
  {
   "cell_type": "code",
   "execution_count": 119,
   "metadata": {},
   "outputs": [
    {
     "name": "stdout",
     "output_type": "stream",
     "text": [
      "Filtered Term-Document Frequency DataFrame for Category soc.religion.christian:\n"
     ]
    },
    {
     "data": {
      "text/html": [
       "<div>\n",
       "<style scoped>\n",
       "    .dataframe tbody tr th:only-of-type {\n",
       "        vertical-align: middle;\n",
       "    }\n",
       "\n",
       "    .dataframe tbody tr th {\n",
       "        vertical-align: top;\n",
       "    }\n",
       "\n",
       "    .dataframe thead th {\n",
       "        text-align: right;\n",
       "    }\n",
       "</style>\n",
       "<table border=\"1\" class=\"dataframe\">\n",
       "  <thead>\n",
       "    <tr style=\"text-align: right;\">\n",
       "      <th></th>\n",
       "      <th>00</th>\n",
       "      <th>000</th>\n",
       "      <th>0001</th>\n",
       "      <th>0014</th>\n",
       "      <th>00630</th>\n",
       "      <th>01</th>\n",
       "      <th>0131</th>\n",
       "      <th>01580</th>\n",
       "      <th>02</th>\n",
       "      <th>02173</th>\n",
       "      <th>...</th>\n",
       "      <th>zebedee</th>\n",
       "      <th>zechariah</th>\n",
       "      <th>zeitschrift</th>\n",
       "      <th>zeke</th>\n",
       "      <th>zero</th>\n",
       "      <th>zeta</th>\n",
       "      <th>zilch</th>\n",
       "      <th>zoerasterism</th>\n",
       "      <th>zorasterism</th>\n",
       "      <th>zwart</th>\n",
       "    </tr>\n",
       "  </thead>\n",
       "  <tbody>\n",
       "    <tr>\n",
       "      <th>0</th>\n",
       "      <td>0</td>\n",
       "      <td>0</td>\n",
       "      <td>0</td>\n",
       "      <td>0</td>\n",
       "      <td>0</td>\n",
       "      <td>0</td>\n",
       "      <td>0</td>\n",
       "      <td>0</td>\n",
       "      <td>0</td>\n",
       "      <td>0</td>\n",
       "      <td>...</td>\n",
       "      <td>0</td>\n",
       "      <td>0</td>\n",
       "      <td>0</td>\n",
       "      <td>0</td>\n",
       "      <td>0</td>\n",
       "      <td>0</td>\n",
       "      <td>0</td>\n",
       "      <td>0</td>\n",
       "      <td>0</td>\n",
       "      <td>0</td>\n",
       "    </tr>\n",
       "    <tr>\n",
       "      <th>1</th>\n",
       "      <td>0</td>\n",
       "      <td>0</td>\n",
       "      <td>0</td>\n",
       "      <td>0</td>\n",
       "      <td>0</td>\n",
       "      <td>0</td>\n",
       "      <td>0</td>\n",
       "      <td>0</td>\n",
       "      <td>0</td>\n",
       "      <td>0</td>\n",
       "      <td>...</td>\n",
       "      <td>0</td>\n",
       "      <td>0</td>\n",
       "      <td>0</td>\n",
       "      <td>0</td>\n",
       "      <td>0</td>\n",
       "      <td>0</td>\n",
       "      <td>0</td>\n",
       "      <td>0</td>\n",
       "      <td>0</td>\n",
       "      <td>2</td>\n",
       "    </tr>\n",
       "    <tr>\n",
       "      <th>2</th>\n",
       "      <td>1</td>\n",
       "      <td>0</td>\n",
       "      <td>0</td>\n",
       "      <td>0</td>\n",
       "      <td>0</td>\n",
       "      <td>1</td>\n",
       "      <td>0</td>\n",
       "      <td>0</td>\n",
       "      <td>0</td>\n",
       "      <td>0</td>\n",
       "      <td>...</td>\n",
       "      <td>0</td>\n",
       "      <td>0</td>\n",
       "      <td>0</td>\n",
       "      <td>0</td>\n",
       "      <td>0</td>\n",
       "      <td>0</td>\n",
       "      <td>0</td>\n",
       "      <td>0</td>\n",
       "      <td>0</td>\n",
       "      <td>0</td>\n",
       "    </tr>\n",
       "    <tr>\n",
       "      <th>3</th>\n",
       "      <td>1</td>\n",
       "      <td>0</td>\n",
       "      <td>0</td>\n",
       "      <td>0</td>\n",
       "      <td>0</td>\n",
       "      <td>0</td>\n",
       "      <td>0</td>\n",
       "      <td>0</td>\n",
       "      <td>0</td>\n",
       "      <td>0</td>\n",
       "      <td>...</td>\n",
       "      <td>0</td>\n",
       "      <td>0</td>\n",
       "      <td>0</td>\n",
       "      <td>0</td>\n",
       "      <td>0</td>\n",
       "      <td>0</td>\n",
       "      <td>0</td>\n",
       "      <td>0</td>\n",
       "      <td>0</td>\n",
       "      <td>0</td>\n",
       "    </tr>\n",
       "    <tr>\n",
       "      <th>4</th>\n",
       "      <td>0</td>\n",
       "      <td>0</td>\n",
       "      <td>0</td>\n",
       "      <td>0</td>\n",
       "      <td>0</td>\n",
       "      <td>1</td>\n",
       "      <td>0</td>\n",
       "      <td>0</td>\n",
       "      <td>0</td>\n",
       "      <td>0</td>\n",
       "      <td>...</td>\n",
       "      <td>0</td>\n",
       "      <td>0</td>\n",
       "      <td>0</td>\n",
       "      <td>0</td>\n",
       "      <td>0</td>\n",
       "      <td>0</td>\n",
       "      <td>0</td>\n",
       "      <td>0</td>\n",
       "      <td>0</td>\n",
       "      <td>0</td>\n",
       "    </tr>\n",
       "    <tr>\n",
       "      <th>...</th>\n",
       "      <td>...</td>\n",
       "      <td>...</td>\n",
       "      <td>...</td>\n",
       "      <td>...</td>\n",
       "      <td>...</td>\n",
       "      <td>...</td>\n",
       "      <td>...</td>\n",
       "      <td>...</td>\n",
       "      <td>...</td>\n",
       "      <td>...</td>\n",
       "      <td>...</td>\n",
       "      <td>...</td>\n",
       "      <td>...</td>\n",
       "      <td>...</td>\n",
       "      <td>...</td>\n",
       "      <td>...</td>\n",
       "      <td>...</td>\n",
       "      <td>...</td>\n",
       "      <td>...</td>\n",
       "      <td>...</td>\n",
       "      <td>...</td>\n",
       "    </tr>\n",
       "    <tr>\n",
       "      <th>594</th>\n",
       "      <td>0</td>\n",
       "      <td>0</td>\n",
       "      <td>0</td>\n",
       "      <td>0</td>\n",
       "      <td>0</td>\n",
       "      <td>0</td>\n",
       "      <td>0</td>\n",
       "      <td>0</td>\n",
       "      <td>0</td>\n",
       "      <td>0</td>\n",
       "      <td>...</td>\n",
       "      <td>0</td>\n",
       "      <td>0</td>\n",
       "      <td>0</td>\n",
       "      <td>0</td>\n",
       "      <td>0</td>\n",
       "      <td>0</td>\n",
       "      <td>0</td>\n",
       "      <td>0</td>\n",
       "      <td>0</td>\n",
       "      <td>0</td>\n",
       "    </tr>\n",
       "    <tr>\n",
       "      <th>595</th>\n",
       "      <td>0</td>\n",
       "      <td>0</td>\n",
       "      <td>0</td>\n",
       "      <td>0</td>\n",
       "      <td>0</td>\n",
       "      <td>0</td>\n",
       "      <td>0</td>\n",
       "      <td>0</td>\n",
       "      <td>0</td>\n",
       "      <td>0</td>\n",
       "      <td>...</td>\n",
       "      <td>0</td>\n",
       "      <td>0</td>\n",
       "      <td>0</td>\n",
       "      <td>0</td>\n",
       "      <td>0</td>\n",
       "      <td>0</td>\n",
       "      <td>0</td>\n",
       "      <td>0</td>\n",
       "      <td>0</td>\n",
       "      <td>0</td>\n",
       "    </tr>\n",
       "    <tr>\n",
       "      <th>596</th>\n",
       "      <td>0</td>\n",
       "      <td>0</td>\n",
       "      <td>0</td>\n",
       "      <td>0</td>\n",
       "      <td>0</td>\n",
       "      <td>0</td>\n",
       "      <td>0</td>\n",
       "      <td>0</td>\n",
       "      <td>0</td>\n",
       "      <td>0</td>\n",
       "      <td>...</td>\n",
       "      <td>0</td>\n",
       "      <td>0</td>\n",
       "      <td>0</td>\n",
       "      <td>0</td>\n",
       "      <td>0</td>\n",
       "      <td>0</td>\n",
       "      <td>0</td>\n",
       "      <td>0</td>\n",
       "      <td>0</td>\n",
       "      <td>0</td>\n",
       "    </tr>\n",
       "    <tr>\n",
       "      <th>597</th>\n",
       "      <td>0</td>\n",
       "      <td>0</td>\n",
       "      <td>0</td>\n",
       "      <td>0</td>\n",
       "      <td>0</td>\n",
       "      <td>0</td>\n",
       "      <td>0</td>\n",
       "      <td>0</td>\n",
       "      <td>0</td>\n",
       "      <td>0</td>\n",
       "      <td>...</td>\n",
       "      <td>0</td>\n",
       "      <td>0</td>\n",
       "      <td>0</td>\n",
       "      <td>0</td>\n",
       "      <td>0</td>\n",
       "      <td>0</td>\n",
       "      <td>0</td>\n",
       "      <td>0</td>\n",
       "      <td>0</td>\n",
       "      <td>0</td>\n",
       "    </tr>\n",
       "    <tr>\n",
       "      <th>598</th>\n",
       "      <td>0</td>\n",
       "      <td>0</td>\n",
       "      <td>0</td>\n",
       "      <td>0</td>\n",
       "      <td>0</td>\n",
       "      <td>1</td>\n",
       "      <td>0</td>\n",
       "      <td>0</td>\n",
       "      <td>0</td>\n",
       "      <td>0</td>\n",
       "      <td>...</td>\n",
       "      <td>0</td>\n",
       "      <td>0</td>\n",
       "      <td>0</td>\n",
       "      <td>0</td>\n",
       "      <td>0</td>\n",
       "      <td>0</td>\n",
       "      <td>0</td>\n",
       "      <td>0</td>\n",
       "      <td>0</td>\n",
       "      <td>0</td>\n",
       "    </tr>\n",
       "  </tbody>\n",
       "</table>\n",
       "<p>599 rows × 13872 columns</p>\n",
       "</div>"
      ],
      "text/plain": [
       "     00  000  0001  0014  00630  01  0131  01580  02  02173  ...  zebedee  \\\n",
       "0     0    0     0     0      0   0     0      0   0      0  ...        0   \n",
       "1     0    0     0     0      0   0     0      0   0      0  ...        0   \n",
       "2     1    0     0     0      0   1     0      0   0      0  ...        0   \n",
       "3     1    0     0     0      0   0     0      0   0      0  ...        0   \n",
       "4     0    0     0     0      0   1     0      0   0      0  ...        0   \n",
       "..   ..  ...   ...   ...    ...  ..   ...    ...  ..    ...  ...      ...   \n",
       "594   0    0     0     0      0   0     0      0   0      0  ...        0   \n",
       "595   0    0     0     0      0   0     0      0   0      0  ...        0   \n",
       "596   0    0     0     0      0   0     0      0   0      0  ...        0   \n",
       "597   0    0     0     0      0   0     0      0   0      0  ...        0   \n",
       "598   0    0     0     0      0   1     0      0   0      0  ...        0   \n",
       "\n",
       "     zechariah  zeitschrift  zeke  zero  zeta  zilch  zoerasterism  \\\n",
       "0            0            0     0     0     0      0             0   \n",
       "1            0            0     0     0     0      0             0   \n",
       "2            0            0     0     0     0      0             0   \n",
       "3            0            0     0     0     0      0             0   \n",
       "4            0            0     0     0     0      0             0   \n",
       "..         ...          ...   ...   ...   ...    ...           ...   \n",
       "594          0            0     0     0     0      0             0   \n",
       "595          0            0     0     0     0      0             0   \n",
       "596          0            0     0     0     0      0             0   \n",
       "597          0            0     0     0     0      0             0   \n",
       "598          0            0     0     0     0      0             0   \n",
       "\n",
       "     zorasterism  zwart  \n",
       "0              0      0  \n",
       "1              0      2  \n",
       "2              0      0  \n",
       "3              0      0  \n",
       "4              0      0  \n",
       "..           ...    ...  \n",
       "594            0      0  \n",
       "595            0      0  \n",
       "596            0      0  \n",
       "597            0      0  \n",
       "598            0      0  \n",
       "\n",
       "[599 rows x 13872 columns]"
      ]
     },
     "execution_count": 119,
     "metadata": {},
     "output_type": "execute_result"
    }
   ],
   "source": [
    "# Display the filtered DataFrame for one of the categories, feel free to change the number in the vector\n",
    "category_number=1 #You can change it from 0 to 3\n",
    "print(f\"Filtered Term-Document Frequency DataFrame for Category {categories[category_number]}:\")\n",
    "filt_term_document_dfs[categories[category_number]]"
   ]
  },
  {
   "cell_type": "code",
   "execution_count": 125,
   "metadata": {},
   "outputs": [
    {
     "name": "stdout",
     "output_type": "stream",
     "text": [
      "\n",
      "For category comp.graphics we filter the following words:\n",
      "Bottom 1.0% words: \n",
      "initworld    1\n",
      "jkpg         1\n",
      "jiu1         1\n",
      "jiu          1\n",
      "jfreund      1\n",
      "            ..\n",
      "lab2         1\n",
      "laaksone     1\n",
      "l4v          1\n",
      "l300         1\n",
      "l14h11       1\n",
      "Length: 137, dtype: int64\n",
      "Top 5.0% words: \n",
      "40               27\n",
      "distributed      27\n",
      "open             27\n",
      "multi            27\n",
      "getting          27\n",
      "               ... \n",
      "is             1751\n",
      "and            2382\n",
      "of             2470\n",
      "to             2775\n",
      "the            4537\n",
      "Length: 687, dtype: int64\n",
      "\n",
      "For category soc.religion.christian we filter the following words:\n",
      "Bottom 1.0% words: \n",
      "disparate       1\n",
      "expose          1\n",
      "explosive       1\n",
      "resisting       1\n",
      "exploitation    1\n",
      "               ..\n",
      "fence           1\n",
      "feminist        1\n",
      "remarriage      1\n",
      "remarried       1\n",
      "remeber         1\n",
      "Length: 138, dtype: int64\n",
      "Top 5.0% words: \n",
      "pagan        36\n",
      "claims       36\n",
      "gave         36\n",
      "parts        36\n",
      "jr           37\n",
      "          ...  \n",
      "that       4393\n",
      "and        4409\n",
      "to         6113\n",
      "of         6377\n",
      "the       11200\n",
      "Length: 693, dtype: int64\n",
      "\n",
      "For category sci.med we filter the following words:\n",
      "Bottom 1.0% words: \n",
      "íålittin         1\n",
      "icl              1\n",
      "icgln            1\n",
      "iceskate         1\n",
      "icemt            1\n",
      "                ..\n",
      "ineligible       1\n",
      "inetractive      1\n",
      "inexcusable      1\n",
      "inexperienced    1\n",
      "infallible       1\n",
      "Length: 162, dtype: int64\n",
      "Top 5.0% words: \n",
      "toxic        29\n",
      "genetic      29\n",
      "sun          29\n",
      "answer       29\n",
      "rose         29\n",
      "           ... \n",
      "in         2993\n",
      "and        3450\n",
      "to         4085\n",
      "of         4560\n",
      "the        6854\n",
      "Length: 812, dtype: int64\n",
      "\n",
      "For category alt.atheism we filter the following words:\n",
      "Bottom 1.0% words: \n",
      "zyklon          1\n",
      "plagerize       1\n",
      "disqualified    1\n",
      "disproving      1\n",
      "disproven       1\n",
      "               ..\n",
      "dressed         1\n",
      "perfecetly      1\n",
      "donate          1\n",
      "dregs           1\n",
      "dreams          1\n",
      "Length: 119, dtype: int64\n",
      "Top 5.0% words: \n",
      "court      36\n",
      "lot        37\n",
      "among      37\n",
      "days       37\n",
      "three      37\n",
      "         ... \n",
      "that     3158\n",
      "is       3530\n",
      "to       4249\n",
      "of       4253\n",
      "the      7234\n",
      "Length: 598, dtype: int64\n",
      "Filtered Term-Document Frequency DataFrame for Category comp.graphics:\n"
     ]
    },
    {
     "data": {
      "text/html": [
       "<div>\n",
       "<style scoped>\n",
       "    .dataframe tbody tr th:only-of-type {\n",
       "        vertical-align: middle;\n",
       "    }\n",
       "\n",
       "    .dataframe tbody tr th {\n",
       "        vertical-align: top;\n",
       "    }\n",
       "\n",
       "    .dataframe thead th {\n",
       "        text-align: right;\n",
       "    }\n",
       "</style>\n",
       "<table border=\"1\" class=\"dataframe\">\n",
       "  <thead>\n",
       "    <tr style=\"text-align: right;\">\n",
       "      <th></th>\n",
       "      <th>000</th>\n",
       "      <th>000005102000</th>\n",
       "      <th>000100255pixel</th>\n",
       "      <th>0007</th>\n",
       "      <th>000usd</th>\n",
       "      <th>0010580b</th>\n",
       "      <th>001200201pixel</th>\n",
       "      <th>00196</th>\n",
       "      <th>002</th>\n",
       "      <th>0028</th>\n",
       "      <th>...</th>\n",
       "      <th>zorn</th>\n",
       "      <th>zrz</th>\n",
       "      <th>zsoft</th>\n",
       "      <th>zt</th>\n",
       "      <th>zug</th>\n",
       "      <th>zurich</th>\n",
       "      <th>zvi</th>\n",
       "      <th>zyeh</th>\n",
       "      <th>zyxel</th>\n",
       "      <th>ªl</th>\n",
       "    </tr>\n",
       "  </thead>\n",
       "  <tbody>\n",
       "    <tr>\n",
       "      <th>0</th>\n",
       "      <td>0</td>\n",
       "      <td>0</td>\n",
       "      <td>0</td>\n",
       "      <td>0</td>\n",
       "      <td>0</td>\n",
       "      <td>0</td>\n",
       "      <td>0</td>\n",
       "      <td>0</td>\n",
       "      <td>0</td>\n",
       "      <td>0</td>\n",
       "      <td>...</td>\n",
       "      <td>0</td>\n",
       "      <td>0</td>\n",
       "      <td>0</td>\n",
       "      <td>0</td>\n",
       "      <td>0</td>\n",
       "      <td>0</td>\n",
       "      <td>0</td>\n",
       "      <td>0</td>\n",
       "      <td>0</td>\n",
       "      <td>0</td>\n",
       "    </tr>\n",
       "    <tr>\n",
       "      <th>1</th>\n",
       "      <td>0</td>\n",
       "      <td>0</td>\n",
       "      <td>0</td>\n",
       "      <td>0</td>\n",
       "      <td>0</td>\n",
       "      <td>0</td>\n",
       "      <td>0</td>\n",
       "      <td>0</td>\n",
       "      <td>0</td>\n",
       "      <td>0</td>\n",
       "      <td>...</td>\n",
       "      <td>0</td>\n",
       "      <td>0</td>\n",
       "      <td>0</td>\n",
       "      <td>0</td>\n",
       "      <td>0</td>\n",
       "      <td>0</td>\n",
       "      <td>0</td>\n",
       "      <td>0</td>\n",
       "      <td>0</td>\n",
       "      <td>0</td>\n",
       "    </tr>\n",
       "    <tr>\n",
       "      <th>2</th>\n",
       "      <td>0</td>\n",
       "      <td>0</td>\n",
       "      <td>0</td>\n",
       "      <td>0</td>\n",
       "      <td>0</td>\n",
       "      <td>0</td>\n",
       "      <td>0</td>\n",
       "      <td>0</td>\n",
       "      <td>0</td>\n",
       "      <td>0</td>\n",
       "      <td>...</td>\n",
       "      <td>0</td>\n",
       "      <td>0</td>\n",
       "      <td>0</td>\n",
       "      <td>0</td>\n",
       "      <td>0</td>\n",
       "      <td>0</td>\n",
       "      <td>0</td>\n",
       "      <td>0</td>\n",
       "      <td>0</td>\n",
       "      <td>0</td>\n",
       "    </tr>\n",
       "    <tr>\n",
       "      <th>3</th>\n",
       "      <td>0</td>\n",
       "      <td>0</td>\n",
       "      <td>0</td>\n",
       "      <td>0</td>\n",
       "      <td>0</td>\n",
       "      <td>0</td>\n",
       "      <td>0</td>\n",
       "      <td>0</td>\n",
       "      <td>0</td>\n",
       "      <td>0</td>\n",
       "      <td>...</td>\n",
       "      <td>0</td>\n",
       "      <td>0</td>\n",
       "      <td>0</td>\n",
       "      <td>0</td>\n",
       "      <td>0</td>\n",
       "      <td>0</td>\n",
       "      <td>0</td>\n",
       "      <td>0</td>\n",
       "      <td>0</td>\n",
       "      <td>0</td>\n",
       "    </tr>\n",
       "    <tr>\n",
       "      <th>4</th>\n",
       "      <td>0</td>\n",
       "      <td>0</td>\n",
       "      <td>0</td>\n",
       "      <td>0</td>\n",
       "      <td>0</td>\n",
       "      <td>0</td>\n",
       "      <td>0</td>\n",
       "      <td>0</td>\n",
       "      <td>0</td>\n",
       "      <td>0</td>\n",
       "      <td>...</td>\n",
       "      <td>0</td>\n",
       "      <td>0</td>\n",
       "      <td>0</td>\n",
       "      <td>0</td>\n",
       "      <td>0</td>\n",
       "      <td>0</td>\n",
       "      <td>0</td>\n",
       "      <td>0</td>\n",
       "      <td>0</td>\n",
       "      <td>0</td>\n",
       "    </tr>\n",
       "    <tr>\n",
       "      <th>...</th>\n",
       "      <td>...</td>\n",
       "      <td>...</td>\n",
       "      <td>...</td>\n",
       "      <td>...</td>\n",
       "      <td>...</td>\n",
       "      <td>...</td>\n",
       "      <td>...</td>\n",
       "      <td>...</td>\n",
       "      <td>...</td>\n",
       "      <td>...</td>\n",
       "      <td>...</td>\n",
       "      <td>...</td>\n",
       "      <td>...</td>\n",
       "      <td>...</td>\n",
       "      <td>...</td>\n",
       "      <td>...</td>\n",
       "      <td>...</td>\n",
       "      <td>...</td>\n",
       "      <td>...</td>\n",
       "      <td>...</td>\n",
       "      <td>...</td>\n",
       "    </tr>\n",
       "    <tr>\n",
       "      <th>579</th>\n",
       "      <td>0</td>\n",
       "      <td>0</td>\n",
       "      <td>0</td>\n",
       "      <td>0</td>\n",
       "      <td>0</td>\n",
       "      <td>0</td>\n",
       "      <td>0</td>\n",
       "      <td>0</td>\n",
       "      <td>0</td>\n",
       "      <td>0</td>\n",
       "      <td>...</td>\n",
       "      <td>0</td>\n",
       "      <td>0</td>\n",
       "      <td>0</td>\n",
       "      <td>0</td>\n",
       "      <td>0</td>\n",
       "      <td>0</td>\n",
       "      <td>0</td>\n",
       "      <td>0</td>\n",
       "      <td>0</td>\n",
       "      <td>0</td>\n",
       "    </tr>\n",
       "    <tr>\n",
       "      <th>580</th>\n",
       "      <td>0</td>\n",
       "      <td>0</td>\n",
       "      <td>0</td>\n",
       "      <td>0</td>\n",
       "      <td>0</td>\n",
       "      <td>0</td>\n",
       "      <td>0</td>\n",
       "      <td>0</td>\n",
       "      <td>0</td>\n",
       "      <td>0</td>\n",
       "      <td>...</td>\n",
       "      <td>0</td>\n",
       "      <td>0</td>\n",
       "      <td>0</td>\n",
       "      <td>0</td>\n",
       "      <td>0</td>\n",
       "      <td>0</td>\n",
       "      <td>0</td>\n",
       "      <td>0</td>\n",
       "      <td>0</td>\n",
       "      <td>0</td>\n",
       "    </tr>\n",
       "    <tr>\n",
       "      <th>581</th>\n",
       "      <td>0</td>\n",
       "      <td>0</td>\n",
       "      <td>0</td>\n",
       "      <td>0</td>\n",
       "      <td>0</td>\n",
       "      <td>0</td>\n",
       "      <td>0</td>\n",
       "      <td>0</td>\n",
       "      <td>0</td>\n",
       "      <td>0</td>\n",
       "      <td>...</td>\n",
       "      <td>0</td>\n",
       "      <td>0</td>\n",
       "      <td>0</td>\n",
       "      <td>0</td>\n",
       "      <td>0</td>\n",
       "      <td>0</td>\n",
       "      <td>0</td>\n",
       "      <td>0</td>\n",
       "      <td>0</td>\n",
       "      <td>0</td>\n",
       "    </tr>\n",
       "    <tr>\n",
       "      <th>582</th>\n",
       "      <td>0</td>\n",
       "      <td>0</td>\n",
       "      <td>0</td>\n",
       "      <td>0</td>\n",
       "      <td>0</td>\n",
       "      <td>0</td>\n",
       "      <td>0</td>\n",
       "      <td>0</td>\n",
       "      <td>0</td>\n",
       "      <td>0</td>\n",
       "      <td>...</td>\n",
       "      <td>0</td>\n",
       "      <td>0</td>\n",
       "      <td>0</td>\n",
       "      <td>0</td>\n",
       "      <td>0</td>\n",
       "      <td>0</td>\n",
       "      <td>0</td>\n",
       "      <td>0</td>\n",
       "      <td>0</td>\n",
       "      <td>0</td>\n",
       "    </tr>\n",
       "    <tr>\n",
       "      <th>583</th>\n",
       "      <td>0</td>\n",
       "      <td>0</td>\n",
       "      <td>0</td>\n",
       "      <td>0</td>\n",
       "      <td>0</td>\n",
       "      <td>0</td>\n",
       "      <td>0</td>\n",
       "      <td>0</td>\n",
       "      <td>0</td>\n",
       "      <td>0</td>\n",
       "      <td>...</td>\n",
       "      <td>0</td>\n",
       "      <td>0</td>\n",
       "      <td>0</td>\n",
       "      <td>0</td>\n",
       "      <td>0</td>\n",
       "      <td>0</td>\n",
       "      <td>0</td>\n",
       "      <td>0</td>\n",
       "      <td>0</td>\n",
       "      <td>0</td>\n",
       "    </tr>\n",
       "  </tbody>\n",
       "</table>\n",
       "<p>584 rows × 12932 columns</p>\n",
       "</div>"
      ],
      "text/plain": [
       "     000  000005102000  000100255pixel  0007  000usd  0010580b  \\\n",
       "0      0             0               0     0       0         0   \n",
       "1      0             0               0     0       0         0   \n",
       "2      0             0               0     0       0         0   \n",
       "3      0             0               0     0       0         0   \n",
       "4      0             0               0     0       0         0   \n",
       "..   ...           ...             ...   ...     ...       ...   \n",
       "579    0             0               0     0       0         0   \n",
       "580    0             0               0     0       0         0   \n",
       "581    0             0               0     0       0         0   \n",
       "582    0             0               0     0       0         0   \n",
       "583    0             0               0     0       0         0   \n",
       "\n",
       "     001200201pixel  00196  002  0028  ...  zorn  zrz  zsoft  zt  zug  zurich  \\\n",
       "0                 0      0    0     0  ...     0    0      0   0    0       0   \n",
       "1                 0      0    0     0  ...     0    0      0   0    0       0   \n",
       "2                 0      0    0     0  ...     0    0      0   0    0       0   \n",
       "3                 0      0    0     0  ...     0    0      0   0    0       0   \n",
       "4                 0      0    0     0  ...     0    0      0   0    0       0   \n",
       "..              ...    ...  ...   ...  ...   ...  ...    ...  ..  ...     ...   \n",
       "579               0      0    0     0  ...     0    0      0   0    0       0   \n",
       "580               0      0    0     0  ...     0    0      0   0    0       0   \n",
       "581               0      0    0     0  ...     0    0      0   0    0       0   \n",
       "582               0      0    0     0  ...     0    0      0   0    0       0   \n",
       "583               0      0    0     0  ...     0    0      0   0    0       0   \n",
       "\n",
       "     zvi  zyeh  zyxel  ªl  \n",
       "0      0     0      0   0  \n",
       "1      0     0      0   0  \n",
       "2      0     0      0   0  \n",
       "3      0     0      0   0  \n",
       "4      0     0      0   0  \n",
       "..   ...   ...    ...  ..  \n",
       "579    0     0      0   0  \n",
       "580    0     0      0   0  \n",
       "581    0     0      0   0  \n",
       "582    0     0      0   0  \n",
       "583    0     0      0   0  \n",
       "\n",
       "[584 rows x 12932 columns]"
      ]
     },
     "execution_count": 125,
     "metadata": {},
     "output_type": "execute_result"
    }
   ],
   "source": [
    "category_number=0 #You can change it from 0 to 3\n",
    "\n",
    "# Filter the bottom 1% and top 5% words based on their sum across all documents\n",
    "def filter_top_bottom_words_by_sum(term_document_df, top_percent=0.05, bottom_percent=0.01):\n",
    "    # Calculate the sum of each word across all documents\n",
    "    word_sums = term_document_df.sum(axis=0)\n",
    "    \n",
    "    # Sort the words by their total sum\n",
    "    sorted_words = word_sums.sort_values()\n",
    "    \n",
    "    # Calculate the number of words to remove\n",
    "    total_words = len(sorted_words)\n",
    "    top_n = int(top_percent * total_words)\n",
    "    bottom_n = int(bottom_percent * total_words)\n",
    "    \n",
    "    # Get the words to remove from the top 5% and bottom 1%\n",
    "    words_to_remove = pd.concat([sorted_words.head(bottom_n), sorted_words.tail(top_n)]).index\n",
    "    print(f'Bottom {bottom_percent*100}% words: \\n{sorted_words.head(bottom_n)}') #Here we print which words correspond to the bottom percentage we filter\n",
    "    print(f'Top {top_percent*100}% words: \\n{sorted_words.tail(top_n)}') #Here we print which words correspond to the top percentage we filter\n",
    "    # Return the DataFrame without the filtered words\n",
    "    return term_document_df.drop(columns=words_to_remove)\n",
    "\n",
    "# Apply the filtering function to each category\n",
    "term_document_dfs = {}\n",
    "\n",
    "for category in categories:\n",
    "    print(f'\\nFor category {category} we filter the following words:')\n",
    "    term_document_dfs[category] = filter_top_bottom_words_by_sum(filt_term_document_dfs[category])\n",
    "\n",
    "# Example: Display the filtered DataFrame for one of the categories\n",
    "print(f\"Filtered Term-Document Frequency DataFrame for Category {categories[category_number]}:\")\n",
    "term_document_dfs[categories[category_number]]"
   ]
  },
  {
   "cell_type": "markdown",
   "metadata": {},
   "source": [
    "**Answer:**  \n",
    "Number of Bottom 1.0% words:  \n",
    "    comp.graphics:137  \n",
    "    soc.religion.christian:138  \n",
    "    sci.med:162  \n",
    "    alt.atheism:119  \n",
    "Number of Top 5.0% words:  \n",
    "    comp.graphics:687   \n",
    "    soc.religion.christian:693  \n",
    "    sci.med:812  \n",
    "    alt.atheism:598  \n",
    "\n",
    "The first four most frequently occurring words are all the same in all four groups.('the', 'to', 'of', 'and')"
   ]
  },
  {
   "cell_type": "markdown",
   "metadata": {},
   "source": [
    "### >>> **Exercise 17 (take home):** "
   ]
  },
  {
   "cell_type": "code",
   "execution_count": null,
   "metadata": {},
   "outputs": [],
   "source": []
  },
  {
   "cell_type": "code",
   "execution_count": null,
   "metadata": {},
   "outputs": [],
   "source": []
  },
  {
   "cell_type": "markdown",
   "metadata": {},
   "source": [
    "### >>> **Exercise 19 (take home):**"
   ]
  },
  {
   "cell_type": "code",
   "execution_count": null,
   "metadata": {},
   "outputs": [],
   "source": []
  },
  {
   "cell_type": "markdown",
   "metadata": {},
   "source": [
    "## **Nostalgic_Sentiment_Analysis_of_YouTube_Comments_Data**"
   ]
  },
  {
   "cell_type": "code",
   "execution_count": null,
   "metadata": {},
   "outputs": [],
   "source": []
  },
  {
   "cell_type": "markdown",
   "metadata": {},
   "source": [
    "## 1. The Data"
   ]
  },
  {
   "cell_type": "markdown",
   "metadata": {},
   "source": [
    "## 2. Data Preparation\n"
   ]
  },
  {
   "cell_type": "markdown",
   "metadata": {},
   "source": [
    "## 3. Data Transformation"
   ]
  },
  {
   "cell_type": "markdown",
   "metadata": {},
   "source": [
    "## 4. Data Mining using Pandas"
   ]
  },
  {
   "cell_type": "markdown",
   "metadata": {},
   "source": []
  }
 ],
 "metadata": {
  "kernelspec": {
   "display_name": "base",
   "language": "python",
   "name": "python3"
  },
  "language_info": {
   "codemirror_mode": {
    "name": "ipython",
    "version": 3
   },
   "file_extension": ".py",
   "mimetype": "text/x-python",
   "name": "python",
   "nbconvert_exporter": "python",
   "pygments_lexer": "ipython3",
   "version": "3.12.4"
  }
 },
 "nbformat": 4,
 "nbformat_minor": 2
}
